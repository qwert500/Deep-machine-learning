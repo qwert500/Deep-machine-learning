{
 "cells": [
  {
   "cell_type": "markdown",
   "metadata": {},
   "source": [
    "### Checklist for submission\n",
    "\n",
    "It is extremely important to make sure that:\n",
    "\n",
    "1. Everything runs as expected (no bugs when running cells);\n",
    "2. The output from each cell corresponds to its code (don't change any cell's contents without rerunning it afterwards);\n",
    "3. All outputs are present (don't delete any of the outputs);\n",
    "4. Fill in all the places that say `YOUR CODE HERE`, or \"**Your answer:** (fill in here)\".\n",
    "5. You **ONLY** change the parts of the code we asked you to, nowhere else (change only the coding parts saying `# YOUR CODE HERE`, nothing else);\n",
    "6. Don't add any new cells to this notebook;\n",
    "7. Fill in your group number and the full names of the members in the cell below;\n",
    "8. Make sure that you are not running an old version of IPython (we provide you with a cell that checks this, make sure you can run it without errors).\n",
    "\n",
    "Failing to meet any of these requirements might lead to either a subtraction of POEs (at best) or a request for resubmission (at worst).\n",
    "\n",
    "We advise you the following steps before submission for ensuring that requirements 1, 2, and 3 are always met: **Restart the kernel** (in the menubar, select Kernel$\\rightarrow$Restart) and then **run all cells** (in the menubar, select Cell$\\rightarrow$Run All). This might require a bit of time, so plan ahead for this (and possibly use Google Cloud's GPU in HA1 and HA2 for this step). Finally press the \"Save and Checkout\" button before handing in, to make sure that all your changes are saved to this .ipynb file."
   ]
  },
  {
   "cell_type": "markdown",
   "metadata": {},
   "source": [
    "---\n",
    "\n",
    "Group number and member names:"
   ]
  },
  {
   "cell_type": "code",
   "execution_count": 1,
   "metadata": {},
   "outputs": [],
   "source": [
    "GROUP = \"36\"\n",
    "NAME1 = \"Timothy Hellberg\"\n",
    "NAME2 = \"Lars Liberg\""
   ]
  },
  {
   "cell_type": "markdown",
   "metadata": {},
   "source": [
    "Make sure you can run the following cell without errors."
   ]
  },
  {
   "cell_type": "code",
   "execution_count": 2,
   "metadata": {},
   "outputs": [],
   "source": [
    "import IPython\n",
    "assert IPython.version_info[0] >= 3, \"Your version of IPython is too old, please update it.\""
   ]
  },
  {
   "cell_type": "markdown",
   "metadata": {},
   "source": [
    "---"
   ]
  },
  {
   "cell_type": "markdown",
   "metadata": {
    "deletable": false,
    "editable": false,
    "nbgrader": {
     "checksum": "f0dd7cbad727dec0308b03071cff6d79",
     "grade": false,
     "grade_id": "cell-8092c3fd452a3245",
     "locked": true,
     "schema_version": 1,
     "solution": false
    }
   },
   "source": [
    "# HA1 - Cats and dogs"
   ]
  },
  {
   "cell_type": "markdown",
   "metadata": {
    "deletable": false,
    "editable": false,
    "nbgrader": {
     "checksum": "87ccf483a45725dd262468c44d2acbae",
     "grade": false,
     "grade_id": "cell-0235e816fc98b0f6",
     "locked": true,
     "schema_version": 1,
     "solution": false
    }
   },
   "source": [
    "<img src=\"http://lghttp.32478.nexcesscdn.net/80E972/organiclifestylemagazine/wp-content/uploads/2015/10/Cats-and-Dogs.jpg\" alt=\"Cats and dogs\" style=\"width: 5000px;\"/>"
   ]
  },
  {
   "cell_type": "markdown",
   "metadata": {
    "deletable": false,
    "editable": false,
    "nbgrader": {
     "checksum": "e42d5a9a7b415bb217a6b890b6f07c84",
     "grade": false,
     "grade_id": "cell-c4bb694612153106",
     "locked": true,
     "schema_version": 1,
     "solution": false
    }
   },
   "source": [
    "For this home assignment, we'll use the Kaggle dataset for the [Dogs vs. Cats competition](https://www.kaggle.com/c/dogs-vs-cats). It is comprised of 25k colored images of dogs and cats. Our goal with this dataset will be to create a classifier that can tell us if the input image is of a cat or a dog."
   ]
  },
  {
   "cell_type": "markdown",
   "metadata": {},
   "source": [
    "As a way of helping you speed up the training process, each group gets 6 hours of access to an instance in Google Cloud with a K80 GPU. Take a look at the [Instructions folder](https://github.com/JulianoLagana/deep-machine-learning/tree/master/Instructions) to understand how to connect to this instance and use our tools there. You're free to use this resource as you see fit, but if you run out of hours you'll need a late day to obtain more (and you can only do this once).\n",
    "\n",
    "In order to make the most out of your GPU hours, first try solving the initial part of this notebook (tasks 0-4) in your own computer (these tasks can be solved only on the CPU), and leave most of the available hours for solving tasks 5-6, and refining your best model further (and, if you have the spare hours, experiment a bit!)."
   ]
  },
  {
   "cell_type": "markdown",
   "metadata": {
    "deletable": false,
    "editable": false,
    "nbgrader": {
     "checksum": "ba437754e558ff25301e1526ca957f4b",
     "grade": false,
     "grade_id": "cell-f7371c24b57c153e",
     "locked": true,
     "schema_version": 1,
     "solution": false
    }
   },
   "source": [
    "Requirements:\n",
    "- Whenever we ask you to plot anything, be sure to add a title and label the axes. If you're plotting more than one curve in the same plot, also add a legend.\n",
    "- When we ask you to train an architecture, train it for a reasonable number of epochs. \"Reasonable\" here means you should be fairly confident that training for a higher number of epochs wouldn't impact your conclusions regarding the model's performance.\n",
    "\n",
    "Tips:\n",
    "- If you get errors saying you've exhausted the GPU resources, well, then you exhausted the GPU resources ;). However, sometimes that's because TensorFlow didn't release a part of the GPU's memory. If you think your CNN should fit in your memory during training, try restarting the kernel and directly training only that architecture.\n",
    "- Every group has enough credits on google cloud to complete this assignment. However, this statement assumes you'll use your resources judiciously (e.g. always try the code first in your machine and make sure everything works properly before starting your instances) and **won't forget to stop your instance after using it,**  otherwise you might run out of credits.\n",
    "- Before starting, take a look at the images we'll be using. This is a hard task, don't get discouraged if your first models perform poorly (several participants in the original competition didn't achieve an accuracy higher than 60%)."
   ]
  },
  {
   "cell_type": "markdown",
   "metadata": {
    "deletable": false,
    "editable": false,
    "nbgrader": {
     "checksum": "9f50e27a30d83bcebeb52a8ae43228e2",
     "grade": false,
     "grade_id": "cell-3ee6d24346a80d85",
     "locked": true,
     "schema_version": 1,
     "solution": false
    }
   },
   "source": [
    "---\n",
    "## 0. Imports\n",
    "\n",
    "In the following cell, add all the imports you'll use in this assignment."
   ]
  },
  {
   "cell_type": "code",
   "execution_count": 3,
   "metadata": {
    "deletable": false,
    "nbgrader": {
     "checksum": "0075c816ac7a24f2287d6fa9b8a81565",
     "grade": true,
     "grade_id": "cell-464a08ede00083a4",
     "locked": false,
     "points": 0,
     "schema_version": 1,
     "solution": true
    }
   },
   "outputs": [
    {
     "name": "stderr",
     "output_type": "stream",
     "text": [
      "Using TensorFlow backend.\n",
      "/Users/timhell/anaconda3/envs/dml/lib/python3.6/importlib/_bootstrap.py:219: RuntimeWarning: compiletime version 3.5 of module 'tensorflow.python.framework.fast_tensor_util' does not match runtime version 3.6\n",
      "  return f(*args, **kwds)\n"
     ]
    }
   ],
   "source": [
    "# YOUR CODE HERE\n",
    "# For dealing with files\n",
    "import os\n",
    "import shutil\n",
    "\n",
    "# For using regex expressions\n",
    "import re\n",
    "\n",
    "# For splitting the data\n",
    "from sklearn.model_selection import train_test_split\n",
    "\n",
    "# Packages for defining the architecture of our model\n",
    "from keras.models import Sequential\n",
    "from keras.layers import Dense, Flatten, BatchNormalization, Input, Dropout\n",
    "from keras.layers.convolutional import Conv2D, MaxPooling2D\n",
    "from keras import regularizers\n",
    "from keras.optimizers import Adam\n",
    "from keras.models import Model\n",
    "from keras.applications.vgg16 import VGG16\n",
    "from keras.preprocessing import image\n",
    "from keras.applications.vgg16 import preprocess_input\n",
    "from keras.models import load_model\n",
    "\n",
    "# For generating data\n",
    "from keras.preprocessing.image import ImageDataGenerator\n",
    "\n",
    "# One-hot encoding\n",
    "from keras.utils import np_utils\n",
    "\n",
    "# Callbacks for training\n",
    "from keras.callbacks import TensorBoard, EarlyStopping\n",
    "\n",
    "# Ploting\n",
    "import matplotlib.pyplot as plt\n",
    "%matplotlib inline\n",
    "\n",
    "# Ndarray computations\n",
    "import numpy as np\n",
    "\n",
    "# Confusion matrix for assessment step\n",
    "from sklearn.metrics import confusion_matrix"
   ]
  },
  {
   "cell_type": "markdown",
   "metadata": {
    "deletable": false,
    "editable": false,
    "nbgrader": {
     "checksum": "49bf801d5ced99ccf6f0c5cd12100230",
     "grade": false,
     "grade_id": "cell-4821dc273028d702",
     "locked": true,
     "schema_version": 1,
     "solution": false
    }
   },
   "source": [
    "---\n",
    "## 1. Loading the data and preprocessing"
   ]
  },
  {
   "cell_type": "markdown",
   "metadata": {
    "deletable": false,
    "editable": false,
    "nbgrader": {
     "checksum": "d1d586c0063030cd1a3b04fe87e189f0",
     "grade": false,
     "grade_id": "cell-2ea049dea4713494",
     "locked": true,
     "schema_version": 1,
     "solution": false
    }
   },
   "source": [
    "The first step is to head to the [Kaggle website for the cats and dogs competition](https://www.kaggle.com/c/dogs-vs-cats) and download the data from there. You should download both the test and train folders together in one zip file (by clicking the download all button). The split ratio between training and validation has not been made, you'll need to do it yourself. The `test.zip` file contains unlabeled data, so that participants in the contest are not able to train on this set.\n",
    "\n",
    "For this assignment you should use [data generators](https://keras.io/preprocessing/image/) to load the images to your CPU/GPU memory. Because of this, your folder structure for the data should conform to the folder structure expected by the data generators (i.e. the samples should be separated into one folder for each class). Furthermore, we ask you to first start with a smaller subset of the data (1/5 of the number of samples), in order to test different models faster.\n",
    "\n",
    "This means that you should create a folder structure that resembles the following (obviously, the folder names are up to you):\n",
    "\n",
    "\n",
    "         small_train             small_val                train                   val\n",
    "              |                      |                      |                      |\n",
    "              |                      |                      |                      |\n",
    "        -------------          -------------          -------------          -------------\n",
    "        |           |          |           |          |           |          |           |\n",
    "        |           |          |           |          |           |          |           |\n",
    "      Cats        Dogs       Cats        Dogs       Cats        Dogs       Cats        Dogs\n",
    "\n",
    "The `small_train` and `small_val` folders have the training and validation samples for your smaller subset of the data, while the `train` and `val` folders contain all the samples you extracted from Kaggle's `train.zip`. We provide you a notebook that shows how to achieve this (\"Create project structure.ipynb\"), starting from the original `all.zip` file that you download from Kaggle. If you do use that notebook, we encourage you to understand how each step is being done, so you can generalize this knowledge to new datasets you'll encounter.\n",
    "\n",
    "We advise you to use 30% of the data as validation data in the smaller dataset. However, for the larger dataset, you should decide how to split between training and validation. Please specify your splits in the following cells."
   ]
  },
  {
   "cell_type": "markdown",
   "metadata": {
    "deletable": false,
    "editable": false,
    "nbgrader": {
     "checksum": "21f8c413dbd2a629e479abc65e02c1a1",
     "grade": false,
     "grade_id": "cell-89ba19509b952af2",
     "locked": true,
     "schema_version": 1,
     "solution": false
    }
   },
   "source": [
    "For the larger subset, what was the training/validation split that you decided to use?"
   ]
  },
  {
   "cell_type": "markdown",
   "metadata": {
    "deletable": false,
    "editable": false,
    "nbgrader": {
     "checksum": "b5740099dceee0e312b1711006e99c1f",
     "grade": false,
     "grade_id": "cell-b0efa9a80e35cb50",
     "locked": true,
     "schema_version": 1,
     "solution": false
    }
   },
   "source": [
    "**% Samples in the training set:**"
   ]
  },
  {
   "cell_type": "code",
   "execution_count": 4,
   "metadata": {
    "deletable": false,
    "nbgrader": {
     "checksum": "0345d9abbe8e41a3d79a43e58cf61bbd",
     "grade": true,
     "grade_id": "cell-7f3b0dfbd90a14c1",
     "locked": false,
     "points": 0.25,
     "schema_version": 1,
     "solution": true
    }
   },
   "outputs": [
    {
     "name": "stdout",
     "output_type": "stream",
     "text": [
      "Number of samples in training set:  20000\n"
     ]
    }
   ],
   "source": [
    "# YOUR CODE HERE\n",
    "\n",
    "# Here we assume that the user is in the folder HA1 after running \"Create project structure\"\n",
    "\n",
    "# train paths\n",
    "home_path = os.getcwd()\n",
    "train_cats_path = home_path + \"/train/cats\"\n",
    "train_dogs_path = home_path + \"/train/dogs\"\n",
    "\n",
    "# get sample sizes\n",
    "os.chdir(train_cats_path)\n",
    "m_train_cats = len(os.listdir())\n",
    "os.chdir(train_dogs_path)\n",
    "m_train_dogs = len(os.listdir())\n",
    "os.chdir(home_path)\n",
    "\n",
    "m_train = m_train_cats + m_train_dogs\n",
    "print('Number of samples in training set: ',m_train)"
   ]
  },
  {
   "cell_type": "markdown",
   "metadata": {
    "deletable": false,
    "editable": false,
    "nbgrader": {
     "checksum": "2ddce1febefd28de63c23277971779d3",
     "grade": false,
     "grade_id": "cell-c23e59a345aa4071",
     "locked": true,
     "schema_version": 1,
     "solution": false
    }
   },
   "source": [
    "**% Samples in the validation set:**"
   ]
  },
  {
   "cell_type": "code",
   "execution_count": 5,
   "metadata": {
    "deletable": false,
    "nbgrader": {
     "checksum": "b8cd8215973c0496aaed775aa00d9052",
     "grade": true,
     "grade_id": "cell-515a15da68038afe",
     "locked": false,
     "points": 0.25,
     "schema_version": 1,
     "solution": true
    }
   },
   "outputs": [
    {
     "name": "stdout",
     "output_type": "stream",
     "text": [
      "Number of samples in validation set:  5000\n"
     ]
    }
   ],
   "source": [
    "# YOUR CODE HERE\n",
    "\n",
    "# val paths\n",
    "val_cats_path = home_path + \"/val/cats\"\n",
    "val_dogs_path = home_path + \"/val/dogs\"\n",
    "\n",
    "# get sample sizes\n",
    "os.chdir(val_cats_path)\n",
    "m_val_cats = len(os.listdir())\n",
    "os.chdir(val_dogs_path)\n",
    "m_val_dogs = len(os.listdir())\n",
    "os.chdir(home_path)\n",
    "\n",
    "m_val = m_val_cats + m_val_dogs \n",
    "print('Number of samples in validation set: ',m_val)"
   ]
  },
  {
   "cell_type": "markdown",
   "metadata": {
    "deletable": false,
    "editable": false,
    "nbgrader": {
     "checksum": "f907f0a06aa01c1087ab6e18710c2fbe",
     "grade": false,
     "grade_id": "cell-876ca7df88c9311f",
     "locked": true,
     "schema_version": 1,
     "solution": false
    }
   },
   "source": [
    "Fill in the dataset paths (to be used later by your data generators):"
   ]
  },
  {
   "cell_type": "code",
   "execution_count": 6,
   "metadata": {
    "deletable": false,
    "nbgrader": {
     "checksum": "99224aa0ced417acf27d271313ab4ca2",
     "grade": true,
     "grade_id": "cell-1b1314f2ab1b1d6b",
     "locked": false,
     "points": 0,
     "schema_version": 1,
     "solution": true
    }
   },
   "outputs": [],
   "source": [
    "# YOUR CODE HERE\n",
    "\n",
    "# large dataset paths\n",
    "test_path = home_path + \"/test\"\n",
    "train_path = home_path + \"/train\"\n",
    "train_cats_path = home_path + \"/train/cats\"\n",
    "train_dogs_path = home_path + \"/train/dogs\"\n",
    "val_path = home_path + \"/val\"\n",
    "val_cats_path = home_path + \"/val/cats\"\n",
    "val_dogs_path = home_path + \"/val/dogs\"\n",
    "\n",
    "# small dataset paths\n",
    "small_train_path = home_path + \"/small_train\"\n",
    "small_train_cats_path = home_path + \"/small_train/cats\"\n",
    "small_train_dogs_path = home_path + \"/small_train/dogs\"\n",
    "small_val_path = home_path + \"/small_val\"\n",
    "small_val_cats_path = home_path + \"/small_val/cats\"\n",
    "small_val_dogs_path = home_path + \"/small_val/dogs\"\n"
   ]
  },
  {
   "cell_type": "markdown",
   "metadata": {
    "deletable": false,
    "editable": false,
    "nbgrader": {
     "checksum": "b5cab872fd6c9d35842bc8b3708e1b7c",
     "grade": false,
     "grade_id": "cell-1d6ea64bca94a4ef",
     "locked": true,
     "schema_version": 1,
     "solution": false
    }
   },
   "source": [
    "---\n",
    "Once you have the expected folder structure, create two data generators for automatically generating batches from the images in your smaller subset of data. Don't use any [data augmentation](https://cartesianfaith.com/2016/10/06/what-you-need-to-know-about-data-augmentation-for-machine-learning/), but feel free to preprocess the data as you see fit. After instantiating them, run the `flow_from_directory` method with the desired arguments.\n",
    "\n",
    "Hints:\n",
    "- The specified `batch_size` should be chosen so that your don't run out of memory.\n",
    "- When feeding the images to your CNN, you'll probably want all of them to have the same spatial size, even though the .jpeg files differ in this. If so, take a look at the argument `target_size` for the `flow_from_directory` method of data generators.\n",
    "- Resizing the images to a smaller size while loading them can be beneficial."
   ]
  },
  {
   "cell_type": "code",
   "execution_count": 7,
   "metadata": {
    "deletable": false,
    "nbgrader": {
     "checksum": "ccd3d3780bee365018f2a96b8022d56b",
     "grade": true,
     "grade_id": "cell-ed8f5ab8d5cc0d6c",
     "locked": false,
     "points": 1.5,
     "schema_version": 1,
     "solution": true
    }
   },
   "outputs": [
    {
     "name": "stdout",
     "output_type": "stream",
     "text": [
      "Found 3500 images belonging to 2 classes.\n",
      "Found 1500 images belonging to 2 classes.\n"
     ]
    }
   ],
   "source": [
    "# YOUR CODE HERE\n",
    "\n",
    "# settings for generators\n",
    "train_directory = small_train_path\n",
    "val_directory = small_val_path\n",
    "size = 128\n",
    "target_size=(size, size)\n",
    "color_mode='rgb'\n",
    "classes=['dogs', 'cats']\n",
    "class_mode='categorical'\n",
    "batch_size=32\n",
    "shuffle=True\n",
    "seed=None\n",
    "save_to_dir=None\n",
    "save_prefix=''\n",
    "save_format='jpg'\n",
    "follow_links=False\n",
    "subset=None\n",
    "interpolation='nearest'\n",
    "\n",
    "train_generator = ImageDataGenerator()\n",
    "train_iterator = train_generator.flow_from_directory(train_directory, target_size, color_mode, classes, class_mode, batch_size, shuffle, seed, save_to_dir, save_prefix, save_format, follow_links, subset, interpolation)\n",
    "\n",
    "val_generator = ImageDataGenerator()\n",
    "val_iterator = train_generator.flow_from_directory(val_directory, target_size, color_mode, classes, class_mode, batch_size, shuffle, seed, save_to_dir, save_prefix, save_format, follow_links, subset, interpolation)\n",
    "\n"
   ]
  },
  {
   "cell_type": "markdown",
   "metadata": {
    "deletable": false,
    "editable": false,
    "nbgrader": {
     "checksum": "9e39d5fb0e38a44e07a4519f4db98583",
     "grade": false,
     "grade_id": "cell-c0bfc1ac7fadfcc7",
     "locked": true,
     "schema_version": 1,
     "solution": false
    }
   },
   "source": [
    "---\n",
    "## 2. Training"
   ]
  },
  {
   "cell_type": "markdown",
   "metadata": {
    "deletable": false,
    "editable": false,
    "nbgrader": {
     "checksum": "41dd6aa5a0bc2a35b880c6e72db8e130",
     "grade": false,
     "grade_id": "cell-2c2425121bcacf34",
     "locked": true,
     "schema_version": 1,
     "solution": false
    }
   },
   "source": [
    "Create your first CNN architecture for this task. Start with something as simple as possible, that you're almost sure can get an accuracy better than 50% (we'll improve upon it later).\n",
    "\n",
    "Tip:\n",
    "- If Tensorflow is your backend, your `input_shape` is always `(img_width, img_height, 3)` (i.e. channels **last**)"
   ]
  },
  {
   "cell_type": "code",
   "execution_count": 8,
   "metadata": {
    "deletable": false,
    "nbgrader": {
     "checksum": "d2c30c88e647d05bd81604c1339a68e7",
     "grade": true,
     "grade_id": "cell-4c9de348cd8bc4ff",
     "locked": false,
     "points": 2,
     "schema_version": 1,
     "solution": true
    }
   },
   "outputs": [],
   "source": [
    "# YOUR CODE HERE\n",
    "\n",
    "# Create model\n",
    "model = Sequential()\n",
    "model.add(Conv2D(128, (5, 5), input_shape=(size, size, 3), activation='relu'))\n",
    "model.add(BatchNormalization())\n",
    "model.add(MaxPooling2D(pool_size=(2, 2)))\n",
    "model.add(Flatten())\n",
    "model.add(Dense(128, activation='relu'))\n",
    "model.add(BatchNormalization())\n",
    "model.add(Dense(2, activation='softmax'))\n",
    "    \n",
    "# Compile model\n",
    "model.compile(loss='categorical_crossentropy', optimizer='adam', metrics=['accuracy'])"
   ]
  },
  {
   "cell_type": "markdown",
   "metadata": {
    "deletable": false,
    "editable": false,
    "nbgrader": {
     "checksum": "5210173277189c7bc5d5c18621a1ef8c",
     "grade": false,
     "grade_id": "cell-cb6fc78116ad6b75",
     "locked": true,
     "schema_version": 1,
     "solution": false
    }
   },
   "source": [
    "Train your model using the `fit_generator` method and the two data generators you created earlier. Train for a reasonable amount of epochs, so as to get a good sense of how well this architecture performs.\n",
    "\n",
    "Tips:\n",
    "- Usually the bottleneck is when loading the images from the disk. To speed up training, make sure to take a look at the arguments `workers` and `use_multiprocessing` of `fit_generator`.\n",
    "- You don't have to set the argument `steps_per_epoch` to the number of batches in an epoch. Instead, you can choose a lower number to obtain more frequent prints about the current loss and accuracy of your model (but then have in mind that you're not actually training for the number of epochs you specify in `epochs`)."
   ]
  },
  {
   "cell_type": "code",
   "execution_count": 9,
   "metadata": {
    "deletable": false,
    "nbgrader": {
     "checksum": "865326597e6d487caaaa64ba30cf1abe",
     "grade": true,
     "grade_id": "cell-bb1fcd878f3bea9a",
     "locked": false,
     "points": 1,
     "schema_version": 1,
     "solution": true
    }
   },
   "outputs": [
    {
     "name": "stdout",
     "output_type": "stream",
     "text": [
      "Epoch 1/30\n",
      "33/32 [==============================] - 292s 9s/step - loss: 1.3581 - acc: 0.5682 - val_loss: 0.8826 - val_acc: 0.5880\n",
      "Epoch 2/30\n",
      "33/32 [==============================] - 290s 9s/step - loss: 0.7002 - acc: 0.6117 - val_loss: 0.7597 - val_acc: 0.6107\n",
      "Epoch 3/30\n",
      "33/32 [==============================] - 291s 9s/step - loss: 0.6442 - acc: 0.6070 - val_loss: 0.9036 - val_acc: 0.5800\n",
      "Epoch 4/30\n",
      "33/32 [==============================] - 289s 9s/step - loss: 0.5584 - acc: 0.7170 - val_loss: 1.7504 - val_acc: 0.5040\n",
      "Epoch 5/30\n",
      "33/32 [==============================] - 290s 9s/step - loss: 0.4884 - acc: 0.7680 - val_loss: 2.8948 - val_acc: 0.5000\n",
      "Epoch 6/30\n",
      "33/32 [==============================] - 288s 9s/step - loss: 0.5040 - acc: 0.7334 - val_loss: 1.1945 - val_acc: 0.5193\n",
      "Epoch 7/30\n",
      "33/32 [==============================] - 291s 9s/step - loss: 0.4523 - acc: 0.7794 - val_loss: 0.7366 - val_acc: 0.6320\n",
      "Epoch 8/30\n",
      "33/32 [==============================] - 290s 9s/step - loss: 0.3451 - acc: 0.8523 - val_loss: 0.6516 - val_acc: 0.6540\n",
      "Epoch 9/30\n",
      "33/32 [==============================] - 290s 9s/step - loss: 0.3543 - acc: 0.8485 - val_loss: 1.4289 - val_acc: 0.5120\n",
      "Epoch 10/30\n",
      "33/32 [==============================] - 286s 9s/step - loss: 0.3750 - acc: 0.8394 - val_loss: 0.9152 - val_acc: 0.6007\n",
      "Epoch 11/30\n",
      "33/32 [==============================] - 285s 9s/step - loss: 0.2549 - acc: 0.8977 - val_loss: 0.9544 - val_acc: 0.6033\n",
      "Epoch 12/30\n",
      "33/32 [==============================] - 287s 9s/step - loss: 0.2222 - acc: 0.9110 - val_loss: 1.3540 - val_acc: 0.5673\n",
      "Epoch 13/30\n",
      "33/32 [==============================] - 285s 9s/step - loss: 0.2623 - acc: 0.8819 - val_loss: 1.4888 - val_acc: 0.5347\n",
      "Epoch 14/30\n",
      "33/32 [==============================] - 288s 9s/step - loss: 0.2292 - acc: 0.9072 - val_loss: 0.7592 - val_acc: 0.6673\n",
      "Epoch 15/30\n",
      "33/32 [==============================] - 290s 9s/step - loss: 0.1894 - acc: 0.9208 - val_loss: 1.1978 - val_acc: 0.6287\n",
      "Epoch 16/30\n",
      "33/32 [==============================] - 292s 9s/step - loss: 0.1573 - acc: 0.9394 - val_loss: 0.9473 - val_acc: 0.6333\n",
      "Epoch 17/30\n",
      "33/32 [==============================] - 288s 9s/step - loss: 0.1327 - acc: 0.9489 - val_loss: 1.3880 - val_acc: 0.6000\n",
      "Epoch 18/30\n",
      "33/32 [==============================] - 290s 9s/step - loss: 0.1285 - acc: 0.9498 - val_loss: 1.4980 - val_acc: 0.5820\n",
      "Epoch 19/30\n",
      "33/32 [==============================] - 285s 9s/step - loss: 0.1146 - acc: 0.9583 - val_loss: 2.1619 - val_acc: 0.5533\n",
      "Epoch 20/30\n",
      "33/32 [==============================] - 283s 9s/step - loss: 0.1110 - acc: 0.9564 - val_loss: 1.5812 - val_acc: 0.5820\n",
      "Epoch 21/30\n",
      "33/32 [==============================] - 283s 9s/step - loss: 0.1095 - acc: 0.9659 - val_loss: 1.1940 - val_acc: 0.6453\n",
      "Epoch 22/30\n",
      "33/32 [==============================] - 284s 9s/step - loss: 0.0731 - acc: 0.9801 - val_loss: 1.2209 - val_acc: 0.6300\n",
      "Epoch 23/30\n",
      "33/32 [==============================] - 285s 9s/step - loss: 0.0831 - acc: 0.9659 - val_loss: 1.0398 - val_acc: 0.6727\n",
      "Epoch 24/30\n",
      "33/32 [==============================] - 284s 9s/step - loss: 0.0849 - acc: 0.9719 - val_loss: 1.0169 - val_acc: 0.6507\n",
      "Epoch 25/30\n",
      "33/32 [==============================] - 304s 9s/step - loss: 0.0573 - acc: 0.9829 - val_loss: 1.9248 - val_acc: 0.5707\n",
      "Epoch 26/30\n",
      "33/32 [==============================] - 289s 9s/step - loss: 0.0561 - acc: 0.9801 - val_loss: 1.1594 - val_acc: 0.6447\n",
      "Epoch 27/30\n",
      "33/32 [==============================] - 291s 9s/step - loss: 0.0562 - acc: 0.9830 - val_loss: 1.0023 - val_acc: 0.6693\n",
      "Epoch 28/30\n",
      "33/32 [==============================] - 303s 9s/step - loss: 0.0364 - acc: 0.9896 - val_loss: 1.8030 - val_acc: 0.5807\n",
      "Epoch 29/30\n",
      "33/32 [==============================] - 290s 9s/step - loss: 0.0386 - acc: 0.9905 - val_loss: 1.0549 - val_acc: 0.6667\n",
      "Epoch 30/30\n",
      "33/32 [==============================] - 287s 9s/step - loss: 0.0638 - acc: 0.9754 - val_loss: 1.1767 - val_acc: 0.6480\n"
     ]
    }
   ],
   "source": [
    "# YOUR CODE HERE\n",
    "\n",
    "# Input data\n",
    "generator = train_iterator\n",
    "validation_data = val_iterator\n",
    "\n",
    "# Training\n",
    "steps_per_epoch=350*3/batch_size\n",
    "epochs=30\n",
    "verbose=1\n",
    "callbacks=None\n",
    "validation_steps=None\n",
    "class_weight=None \n",
    "max_queue_size=10\n",
    "workers=4\n",
    "use_multiprocessing=True\n",
    "shuffle=True\n",
    "initial_epoch=0\n",
    "\n",
    "history1 = model.fit_generator(\n",
    "    generator=generator,\n",
    "    steps_per_epoch=steps_per_epoch,\n",
    "    epochs=epochs,\n",
    "    verbose=verbose,\n",
    "    callbacks=callbacks,\n",
    "    validation_data=validation_data,\n",
    "    validation_steps=validation_steps,\n",
    "    class_weight=class_weight,\n",
    "    max_queue_size=max_queue_size,\n",
    "    workers=workers,\n",
    "    use_multiprocessing=use_multiprocessing,\n",
    "    shuffle=shuffle,\n",
    "    initial_epoch=initial_epoch)"
   ]
  },
  {
   "cell_type": "markdown",
   "metadata": {
    "deletable": false,
    "editable": false,
    "nbgrader": {
     "checksum": "2f494d53c5c891008921b85679b9aaa7",
     "grade": false,
     "grade_id": "cell-4d42c86687697a67",
     "locked": true,
     "schema_version": 1,
     "solution": false
    }
   },
   "source": [
    "Create one figure with two axes. In one of them, plot the loss in the training and the validation datasets. In the other one, plot the accuracy in the training and validation datasets.\n",
    "\n",
    "Hint:\n",
    "- The `fit_generator` method returns a `history` object."
   ]
  },
  {
   "cell_type": "code",
   "execution_count": 10,
   "metadata": {
    "deletable": false,
    "nbgrader": {
     "checksum": "e71729e832321272983178b41b90f874",
     "grade": true,
     "grade_id": "cell-fa81712e1e27432a",
     "locked": false,
     "points": 0,
     "schema_version": 1,
     "solution": true
    }
   },
   "outputs": [
    {
     "name": "stdout",
     "output_type": "stream",
     "text": [
      "<class 'keras.callbacks.History'>\n"
     ]
    },
    {
     "data": {
      "text/plain": [
       "Text(0,0.5,'Accuracy')"
      ]
     },
     "execution_count": 10,
     "metadata": {},
     "output_type": "execute_result"
    },
    {
     "data": {
      "image/png": "[encoded data removed]",
      "text/plain": [
       "<Figure size 432x288 with 1 Axes>"
      ]
     },
     "metadata": {},
     "output_type": "display_data"
    }
   ],
   "source": [
    "# YOUR CODE HERE\n",
    "\n",
    "fig, axes = plt.subplots()\n",
    "print(type(history1))\n",
    "axes.plot(history1.history['acc'])\n",
    "axes.plot(history1.history['val_acc'])\n",
    "plt.legend(['Training','Validation'])\n",
    "plt.title('First model accuracy')\n",
    "plt.xlabel('Epoch')\n",
    "plt.ylabel('Accuracy')"
   ]
  },
  {
   "cell_type": "markdown",
   "metadata": {
    "deletable": false,
    "editable": false,
    "nbgrader": {
     "checksum": "5797f9d2d079b67832722cebe8cff0ef",
     "grade": false,
     "grade_id": "cell-f2fc166890962bcf",
     "locked": true,
     "schema_version": 1,
     "solution": false
    }
   },
   "source": [
    "Based on these, what would you suggest for improving your model? Why?"
   ]
  },
  {
   "cell_type": "markdown",
   "metadata": {
    "deletable": false,
    "nbgrader": {
     "checksum": "cf197ef63bfa3aee62055bd8ed8f7a1c",
     "grade": true,
     "grade_id": "cell-506e21ce469b67f5",
     "locked": false,
     "points": 1,
     "schema_version": 1,
     "solution": true
    }
   },
   "source": [
    "**Your answer:** Since the validation accuracy is much lower than the training accuracy, it means that we are overfitting the data. In order to reduce variance, we should add regularization and lower the filter size. In order to prevent the bias from becomming too large, we should add more layers."
   ]
  },
  {
   "cell_type": "markdown",
   "metadata": {
    "deletable": false,
    "editable": false,
    "nbgrader": {
     "checksum": "0be49b9a95620540a192e413f70f71c5",
     "grade": false,
     "grade_id": "cell-db018000a5382694",
     "locked": true,
     "schema_version": 1,
     "solution": false
    }
   },
   "source": [
    "---\n",
    "## 3. Improving your initial model"
   ]
  },
  {
   "cell_type": "markdown",
   "metadata": {
    "deletable": false,
    "editable": false,
    "nbgrader": {
     "checksum": "52b66a6d63b9dd6f55f0dfd477b84597",
     "grade": false,
     "grade_id": "cell-fa0e4d84ef7af322",
     "locked": true,
     "schema_version": 1,
     "solution": false
    }
   },
   "source": [
    "Improve your initial model according to you answer above. Write the new definition in the cell below and train it."
   ]
  },
  {
   "cell_type": "code",
   "execution_count": 11,
   "metadata": {
    "deletable": false,
    "nbgrader": {
     "checksum": "a0b92d3cd986908779f53ff2b6fac22f",
     "grade": true,
     "grade_id": "cell-a4a3c7da2ad8161b",
     "locked": false,
     "points": 2,
     "schema_version": 1,
     "solution": true
    }
   },
   "outputs": [
    {
     "name": "stdout",
     "output_type": "stream",
     "text": [
      "Epoch 1/30\n",
      "33/32 [==============================] - 108s 3s/step - loss: 4.3898 - acc: 0.6023 - val_loss: 4.1434 - val_acc: 0.5767\n",
      "Epoch 2/30\n",
      "33/32 [==============================] - 103s 3s/step - loss: 3.1193 - acc: 0.6219 - val_loss: 2.8392 - val_acc: 0.5633\n",
      "Epoch 3/30\n",
      "33/32 [==============================] - 105s 3s/step - loss: 2.1972 - acc: 0.6496 - val_loss: 2.4071 - val_acc: 0.5707\n",
      "Epoch 4/30\n",
      "33/32 [==============================] - 106s 3s/step - loss: 1.7397 - acc: 0.7027 - val_loss: 1.6295 - val_acc: 0.6473\n",
      "Epoch 5/30\n",
      "33/32 [==============================] - 105s 3s/step - loss: 1.4805 - acc: 0.7491 - val_loss: 1.5334 - val_acc: 0.6607\n",
      "Epoch 6/30\n",
      "33/32 [==============================] - 106s 3s/step - loss: 1.5270 - acc: 0.6913 - val_loss: 1.4895 - val_acc: 0.6600\n",
      "Epoch 7/30\n",
      "33/32 [==============================] - 103s 3s/step - loss: 1.3717 - acc: 0.7104 - val_loss: 1.4623 - val_acc: 0.6433\n",
      "Epoch 8/30\n",
      "33/32 [==============================] - 105s 3s/step - loss: 1.2868 - acc: 0.7225 - val_loss: 1.3833 - val_acc: 0.6480\n",
      "Epoch 9/30\n",
      "33/32 [==============================] - 106s 3s/step - loss: 1.2781 - acc: 0.7140 - val_loss: 1.4094 - val_acc: 0.6253\n",
      "Epoch 10/30\n",
      "33/32 [==============================] - 106s 3s/step - loss: 1.2802 - acc: 0.7074 - val_loss: 1.2919 - val_acc: 0.6380\n",
      "Epoch 11/30\n",
      "33/32 [==============================] - 105s 3s/step - loss: 1.0430 - acc: 0.7803 - val_loss: 1.1700 - val_acc: 0.6280\n",
      "Epoch 12/30\n",
      "33/32 [==============================] - 106s 3s/step - loss: 1.1457 - acc: 0.7415 - val_loss: 1.2039 - val_acc: 0.7107\n",
      "Epoch 13/30\n",
      "33/32 [==============================] - 104s 3s/step - loss: 1.1039 - acc: 0.7572 - val_loss: 1.2263 - val_acc: 0.6427\n",
      "Epoch 14/30\n",
      "33/32 [==============================] - 105s 3s/step - loss: 1.0665 - acc: 0.7898 - val_loss: 1.1156 - val_acc: 0.7187\n",
      "Epoch 15/30\n",
      "33/32 [==============================] - 104s 3s/step - loss: 0.9888 - acc: 0.7758 - val_loss: 1.1259 - val_acc: 0.6827\n",
      "Epoch 16/30\n",
      "33/32 [==============================] - 105s 3s/step - loss: 1.0961 - acc: 0.7481 - val_loss: 1.2115 - val_acc: 0.7027\n",
      "Epoch 17/30\n",
      "33/32 [==============================] - 105s 3s/step - loss: 1.0363 - acc: 0.8097 - val_loss: 1.1791 - val_acc: 0.6713\n",
      "Epoch 18/30\n",
      "33/32 [==============================] - 105s 3s/step - loss: 0.9272 - acc: 0.8324 - val_loss: 1.2991 - val_acc: 0.6320\n",
      "Epoch 19/30\n",
      "33/32 [==============================] - 105s 3s/step - loss: 1.2647 - acc: 0.7339 - val_loss: 1.4480 - val_acc: 0.6393\n",
      "Epoch 20/30\n",
      "33/32 [==============================] - 105s 3s/step - loss: 1.2880 - acc: 0.7345 - val_loss: 1.4072 - val_acc: 0.6593\n",
      "Epoch 21/30\n",
      "33/32 [==============================] - 105s 3s/step - loss: 0.9846 - acc: 0.8627 - val_loss: 1.3093 - val_acc: 0.6107\n",
      "Epoch 22/30\n",
      "33/32 [==============================] - 105s 3s/step - loss: 1.0884 - acc: 0.7955 - val_loss: 1.3268 - val_acc: 0.7100\n",
      "Epoch 23/30\n",
      "33/32 [==============================] - 104s 3s/step - loss: 1.2402 - acc: 0.7885 - val_loss: 1.3494 - val_acc: 0.6787\n",
      "Epoch 24/30\n",
      "33/32 [==============================] - 105s 3s/step - loss: 1.1218 - acc: 0.8371 - val_loss: 1.2393 - val_acc: 0.7007\n",
      "Epoch 25/30\n",
      "33/32 [==============================] - 105s 3s/step - loss: 1.0408 - acc: 0.8201 - val_loss: 1.2343 - val_acc: 0.7180\n",
      "Epoch 26/30\n",
      "33/32 [==============================] - 104s 3s/step - loss: 1.1119 - acc: 0.8120 - val_loss: 1.2675 - val_acc: 0.7513\n",
      "Epoch 27/30\n",
      "33/32 [==============================] - 109s 3s/step - loss: 1.2200 - acc: 0.8097 - val_loss: 1.3304 - val_acc: 0.7180\n",
      "Epoch 28/30\n",
      "33/32 [==============================] - 106s 3s/step - loss: 0.9524 - acc: 0.8807 - val_loss: 1.2162 - val_acc: 0.6800\n",
      "Epoch 29/30\n",
      "33/32 [==============================] - 105s 3s/step - loss: 1.1106 - acc: 0.8406 - val_loss: 1.3971 - val_acc: 0.7267\n",
      "Epoch 30/30\n",
      "33/32 [==============================] - 106s 3s/step - loss: 1.2763 - acc: 0.8097 - val_loss: 1.6797 - val_acc: 0.6487\n"
     ]
    }
   ],
   "source": [
    "# YOUR CODE HERE\n",
    "\n",
    "def two_convlayers_model_fewer_filters_with_reg(): \n",
    "    # lowered bias thanks to more layers and lowered variance with regularization, \n",
    "    # better performance than two_convlayers_model\n",
    "    lam = 0.01 # penalty parameter\n",
    "    model = Sequential()\n",
    "    model.add(Conv2D(32, (3, 3), input_shape=(size, size, 3), activation='relu',\n",
    "              kernel_regularizer=regularizers.l2(lam)))\n",
    "    model.add(BatchNormalization())\n",
    "    model.add(MaxPooling2D(pool_size=(2, 2)))\n",
    "    model.add(Conv2D(64, (3, 3), activation='relu',\n",
    "              kernel_regularizer=regularizers.l2(lam)))\n",
    "    model.add(BatchNormalization())\n",
    "    model.add(MaxPooling2D(pool_size=(2, 2)))\n",
    "    model.add(Flatten())\n",
    "    model.add(Dense(128, activation='relu',\n",
    "              kernel_regularizer=regularizers.l2(lam)))\n",
    "    model.add(BatchNormalization())\n",
    "    model.add(Dense(2, activation='softmax'))\n",
    "    model.compile(loss='categorical_crossentropy', optimizer='adam', metrics=['accuracy'])\n",
    "    return model\n",
    "\n",
    "# Create model\n",
    "model = two_convlayers_model_fewer_filters_with_reg()\n",
    "\n",
    "# Input data\n",
    "generator = train_iterator\n",
    "validation_data = val_iterator\n",
    "\n",
    "# Training\n",
    "steps_per_epoch=350*3/batch_size\n",
    "epochs=30\n",
    "verbose=1\n",
    "callbacks=None\n",
    "validation_steps=None\n",
    "class_weight=None \n",
    "max_queue_size=10\n",
    "workers=4\n",
    "use_multiprocessing=True\n",
    "shuffle=True\n",
    "initial_epoch=0\n",
    "\n",
    "history2 = model.fit_generator(\n",
    "    generator=generator,\n",
    "    steps_per_epoch=steps_per_epoch,\n",
    "    epochs=epochs,\n",
    "    verbose=verbose,\n",
    "    callbacks=callbacks,\n",
    "    validation_data=validation_data,\n",
    "    validation_steps=validation_steps,\n",
    "    class_weight=class_weight ,\n",
    "    max_queue_size=max_queue_size,\n",
    "    workers=workers,\n",
    "    use_multiprocessing=use_multiprocessing,\n",
    "    shuffle=shuffle,\n",
    "    initial_epoch=initial_epoch)"
   ]
  },
  {
   "cell_type": "markdown",
   "metadata": {
    "deletable": false,
    "editable": false,
    "nbgrader": {
     "checksum": "a93627bb2c08c83a9d4cb6596ab27de7",
     "grade": false,
     "grade_id": "cell-bcff77954e648d56",
     "locked": true,
     "schema_version": 1,
     "solution": false
    }
   },
   "source": [
    "How does the model perform, compared to the initial model? Create one plot with the training accuracy and another with the validation accuracy of the two scenarios."
   ]
  },
  {
   "cell_type": "code",
   "execution_count": 12,
   "metadata": {
    "deletable": false,
    "nbgrader": {
     "checksum": "b18ab0f30b9a4e8e9746f324313fa1b2",
     "grade": true,
     "grade_id": "cell-e4cf90a9c3ae1959",
     "locked": false,
     "points": 0,
     "schema_version": 1,
     "solution": true
    }
   },
   "outputs": [
    {
     "name": "stdout",
     "output_type": "stream",
     "text": [
      "<class 'keras.callbacks.History'>\n"
     ]
    },
    {
     "data": {
      "text/plain": [
       "Text(0,0.5,'Accuracy')"
      ]
     },
     "execution_count": 12,
     "metadata": {},
     "output_type": "execute_result"
    },
    {
     "data": {
      "image/png": "[encoded data removed]",
      "text/plain": [
       "<Figure size 432x288 with 1 Axes>"
      ]
     },
     "metadata": {},
     "output_type": "display_data"
    }
   ],
   "source": [
    "# YOUR CODE HERE\n",
    "\n",
    "fig, axes = plt.subplots()\n",
    "print(type(history2))\n",
    "axes.plot(history2.history['acc'])\n",
    "axes.plot(history2.history['val_acc'])\n",
    "plt.legend(['Training','Validation'])\n",
    "plt.title('Improved model accuracy')\n",
    "plt.xlabel('Epoch')\n",
    "plt.ylabel('Accuracy')"
   ]
  },
  {
   "cell_type": "markdown",
   "metadata": {
    "deletable": false,
    "editable": false,
    "nbgrader": {
     "checksum": "5e771b76bc948242070767d51688eeee",
     "grade": false,
     "grade_id": "cell-14b1810989c351b4",
     "locked": true,
     "schema_version": 1,
     "solution": false
    }
   },
   "source": [
    "Did your results improve? Explain why, or why not."
   ]
  },
  {
   "cell_type": "markdown",
   "metadata": {
    "deletable": false,
    "nbgrader": {
     "checksum": "30a59a5574ab183d17b3f92f8057aba4",
     "grade": true,
     "grade_id": "cell-1d27850a74139e5a",
     "locked": false,
     "points": 1,
     "schema_version": 1,
     "solution": true
    }
   },
   "source": [
    "**Your answer:** The results did improve, but not by much. The validation score become slighly better since we added more layers but the training score decreased because of heavy regularization. We should therefore lower the regularization effect to raise the training score. Since the model still overfits, we should also try more layers."
   ]
  },
  {
   "cell_type": "markdown",
   "metadata": {
    "deletable": false,
    "editable": false,
    "nbgrader": {
     "checksum": "67dce4bccc56629263ef4839e570f12a",
     "grade": false,
     "grade_id": "cell-ee79a83a62b70a8f",
     "locked": true,
     "schema_version": 1,
     "solution": false
    }
   },
   "source": [
    "---\n",
    "## 4. Obtaining the *best* model"
   ]
  },
  {
   "cell_type": "markdown",
   "metadata": {
    "deletable": false,
    "editable": false,
    "nbgrader": {
     "checksum": "6d029dd4346c9e32b725e6158d77475c",
     "grade": false,
     "grade_id": "cell-5314d286e79e0377",
     "locked": true,
     "schema_version": 1,
     "solution": false
    }
   },
   "source": [
    "Continue to improve your model architecture by comparing the value of the metrics you're interested in both the training and validation set. Try different ideas, and consider comparing them using tensorboard. When you're happy with one architecture, copy it in the cell below and train it here. Save the optimization history (i.e. the `history` object returned by the `fit_generator`). You'll use this later to compare your best model with the one using transfer learning.\n",
    "\n",
    "**Note**: When trying different ideas, you'll end up with several different models. However, when submitting your solutions to ping-pong, the cell below must contain only the definition and training of *one* model. Remove all code related to the models that were not chosen."
   ]
  },
  {
   "cell_type": "code",
   "execution_count": 13,
   "metadata": {
    "deletable": false,
    "nbgrader": {
     "checksum": "45e0af4b6ac1d453b519ba7c65ccb56d",
     "grade": true,
     "grade_id": "cell-6edb7d7e343ab14b",
     "locked": false,
     "points": 2,
     "schema_version": 1,
     "solution": true
    }
   },
   "outputs": [
    {
     "name": "stdout",
     "output_type": "stream",
     "text": [
      "Epoch 1/30\n",
      "33/32 [==============================] - 115s 3s/step - loss: 2.9434 - acc: 0.6092 - val_loss: 2.8909 - val_acc: 0.6013\n",
      "Epoch 2/30\n",
      "33/32 [==============================] - 114s 3s/step - loss: 2.6418 - acc: 0.6061 - val_loss: 2.8964 - val_acc: 0.5607\n",
      "Epoch 3/30\n",
      "33/32 [==============================] - 114s 3s/step - loss: 2.4269 - acc: 0.6345 - val_loss: 2.3348 - val_acc: 0.6487\n",
      "Epoch 4/30\n",
      "33/32 [==============================] - 114s 3s/step - loss: 2.1695 - acc: 0.7333 - val_loss: 2.2042 - val_acc: 0.6673\n",
      "Epoch 5/30\n",
      "33/32 [==============================] - 114s 3s/step - loss: 2.0343 - acc: 0.7263 - val_loss: 2.0806 - val_acc: 0.6400\n",
      "Epoch 6/30\n",
      "33/32 [==============================] - 114s 3s/step - loss: 1.9101 - acc: 0.7453 - val_loss: 2.0103 - val_acc: 0.6447\n",
      "Epoch 7/30\n",
      "33/32 [==============================] - 115s 3s/step - loss: 1.7250 - acc: 0.7765 - val_loss: 1.7921 - val_acc: 0.7147\n",
      "Epoch 8/30\n",
      "33/32 [==============================] - 114s 3s/step - loss: 1.6103 - acc: 0.8040 - val_loss: 1.6990 - val_acc: 0.7013\n",
      "Epoch 9/30\n",
      "33/32 [==============================] - 114s 3s/step - loss: 1.5766 - acc: 0.7623 - val_loss: 1.6641 - val_acc: 0.6920\n",
      "Epoch 10/30\n",
      "33/32 [==============================] - 113s 3s/step - loss: 1.4753 - acc: 0.7907 - val_loss: 1.5604 - val_acc: 0.6993\n",
      "Epoch 11/30\n",
      "33/32 [==============================] - 113s 3s/step - loss: 1.3566 - acc: 0.8078 - val_loss: 1.5488 - val_acc: 0.6753\n",
      "Epoch 12/30\n",
      "33/32 [==============================] - 115s 3s/step - loss: 1.3507 - acc: 0.7917 - val_loss: 1.4551 - val_acc: 0.6940\n",
      "Epoch 13/30\n",
      "33/32 [==============================] - 115s 3s/step - loss: 1.2906 - acc: 0.8002 - val_loss: 1.3527 - val_acc: 0.7440\n",
      "Epoch 14/30\n",
      "33/32 [==============================] - 114s 3s/step - loss: 1.1416 - acc: 0.8419 - val_loss: 1.3954 - val_acc: 0.7053\n",
      "Epoch 15/30\n",
      "33/32 [==============================] - 113s 3s/step - loss: 1.1148 - acc: 0.8372 - val_loss: 1.3931 - val_acc: 0.7167\n",
      "Epoch 16/30\n",
      "33/32 [==============================] - 114s 3s/step - loss: 1.1373 - acc: 0.8220 - val_loss: 1.3113 - val_acc: 0.7213\n",
      "Epoch 17/30\n",
      "33/32 [==============================] - 115s 3s/step - loss: 1.0615 - acc: 0.8381 - val_loss: 1.4316 - val_acc: 0.6900\n",
      "Epoch 18/30\n",
      "33/32 [==============================] - 113s 3s/step - loss: 0.9609 - acc: 0.8732 - val_loss: 1.2157 - val_acc: 0.7207\n",
      "Epoch 19/30\n",
      "33/32 [==============================] - 115s 3s/step - loss: 0.9771 - acc: 0.8494 - val_loss: 1.4037 - val_acc: 0.6753\n",
      "Epoch 20/30\n",
      "33/32 [==============================] - 118s 4s/step - loss: 1.0274 - acc: 0.8191 - val_loss: 1.1644 - val_acc: 0.7280\n",
      "Epoch 21/30\n",
      "33/32 [==============================] - 113s 3s/step - loss: 0.8477 - acc: 0.9037 - val_loss: 1.0926 - val_acc: 0.7613\n",
      "Epoch 22/30\n",
      "33/32 [==============================] - 113s 3s/step - loss: 0.8599 - acc: 0.8731 - val_loss: 1.2062 - val_acc: 0.6953\n",
      "Epoch 23/30\n",
      "33/32 [==============================] - 114s 3s/step - loss: 0.9379 - acc: 0.8362 - val_loss: 1.2148 - val_acc: 0.6967\n",
      "Epoch 24/30\n",
      "33/32 [==============================] - 114s 3s/step - loss: 0.8375 - acc: 0.8873 - val_loss: 1.3325 - val_acc: 0.6587\n",
      "Epoch 25/30\n",
      "33/32 [==============================] - 115s 3s/step - loss: 0.8052 - acc: 0.8902 - val_loss: 1.1190 - val_acc: 0.7353\n",
      "Epoch 26/30\n",
      "33/32 [==============================] - 113s 3s/step - loss: 0.8956 - acc: 0.8601 - val_loss: 1.1332 - val_acc: 0.7247\n",
      "Epoch 27/30\n",
      "33/32 [==============================] - 121s 4s/step - loss: 0.8135 - acc: 0.8911 - val_loss: 1.2240 - val_acc: 0.7093\n",
      "Epoch 28/30\n",
      "33/32 [==============================] - 114s 3s/step - loss: 0.7806 - acc: 0.8952 - val_loss: 1.2856 - val_acc: 0.6507\n",
      "Epoch 29/30\n",
      "33/32 [==============================] - 118s 4s/step - loss: 0.7532 - acc: 0.9100 - val_loss: 1.1347 - val_acc: 0.7227\n",
      "Epoch 30/30\n",
      "33/32 [==============================] - 114s 3s/step - loss: 0.7966 - acc: 0.8684 - val_loss: 1.1462 - val_acc: 0.7233\n"
     ]
    }
   ],
   "source": [
    "# YOUR CODE HERE\n",
    "\n",
    "def four_convlayers_model_fewer_filters_with_reg(): \n",
    "    # much better performance, lowered the bias with more layers and lowered lambda. Achieved 75% val_acc\n",
    "    lam = 0.005\n",
    "    model = Sequential()\n",
    "    \n",
    "    model.add(Conv2D(32, (3, 3), input_shape=(size, size, 3), activation='relu',\n",
    "              kernel_regularizer=regularizers.l2(lam)))\n",
    "    model.add(BatchNormalization())\n",
    "    model.add(MaxPooling2D(pool_size=(2, 2)))\n",
    "    \n",
    "    model.add(Conv2D(64, (3, 3), activation='relu',\n",
    "              kernel_regularizer=regularizers.l2(lam)))\n",
    "    model.add(BatchNormalization())\n",
    "    model.add(MaxPooling2D(pool_size=(2, 2)))\n",
    "    \n",
    "    model.add(Conv2D(64, (3, 3), activation='relu',\n",
    "              kernel_regularizer=regularizers.l2(lam)))\n",
    "    model.add(BatchNormalization())\n",
    "    model.add(MaxPooling2D(pool_size=(2, 2)))\n",
    "    \n",
    "    model.add(Conv2D(64, (3, 3), activation='relu',\n",
    "              kernel_regularizer=regularizers.l2(lam)))\n",
    "    model.add(BatchNormalization())\n",
    "    model.add(MaxPooling2D(pool_size=(2, 2)))\n",
    "    \n",
    "    model.add(Flatten())\n",
    "    model.add(Dense(128, activation='relu',\n",
    "              kernel_regularizer=regularizers.l2(lam)))\n",
    "    model.add(BatchNormalization())\n",
    "    model.add(Dense(2, activation='softmax'))\n",
    "    model.compile(loss='categorical_crossentropy', optimizer='adam', metrics=['accuracy'])\n",
    "    return model\n",
    "\n",
    "model = four_convlayers_model_fewer_filters_with_reg()\n",
    "\n",
    "estop = EarlyStopping(monitor='val_acc', patience=20)\n",
    "\n",
    "# Input data\n",
    "generator = train_iterator\n",
    "validation_data = val_iterator\n",
    "\n",
    "# Training\n",
    "steps_per_epoch=350*3/batch_size\n",
    "epochs=30\n",
    "verbose=1\n",
    "callbacks=[estop]\n",
    "validation_steps=None\n",
    "class_weight=None \n",
    "max_queue_size=10\n",
    "workers=4\n",
    "use_multiprocessing=True\n",
    "shuffle=True\n",
    "initial_epoch=0\n",
    "\n",
    "history3 = model.fit_generator(\n",
    "    generator=generator,\n",
    "    steps_per_epoch=steps_per_epoch,\n",
    "    epochs=epochs,\n",
    "    verbose=verbose,\n",
    "    callbacks=callbacks,\n",
    "    validation_data=validation_data,\n",
    "    validation_steps=validation_steps,\n",
    "    class_weight=class_weight ,\n",
    "    max_queue_size=max_queue_size,\n",
    "    workers=workers,\n",
    "    use_multiprocessing=use_multiprocessing,\n",
    "    shuffle=shuffle,\n",
    "    initial_epoch=initial_epoch)"
   ]
  },
  {
   "cell_type": "markdown",
   "metadata": {
    "deletable": false,
    "editable": false,
    "nbgrader": {
     "checksum": "3ed8d707a3e3e3e2dc6e09630da26d02",
     "grade": false,
     "grade_id": "cell-d033937b5a8b9875",
     "locked": true,
     "schema_version": 1,
     "solution": false
    }
   },
   "source": [
    "Create one figure with two axes. In one of them, plot the loss in the training and the validation datasets. In the other one, plot the accuracy in the training and validation datasets."
   ]
  },
  {
   "cell_type": "code",
   "execution_count": 14,
   "metadata": {
    "deletable": false,
    "nbgrader": {
     "checksum": "88f944698dc9dc353e1933fe16b6de87",
     "grade": true,
     "grade_id": "cell-3df999674672de47",
     "locked": false,
     "points": 0,
     "schema_version": 1,
     "solution": true
    }
   },
   "outputs": [
    {
     "name": "stdout",
     "output_type": "stream",
     "text": [
      "<class 'keras.callbacks.History'>\n"
     ]
    },
    {
     "data": {
      "text/plain": [
       "Text(0,0.5,'Accuracy')"
      ]
     },
     "execution_count": 14,
     "metadata": {},
     "output_type": "execute_result"
    },
    {
     "data": {
      "image/png": "[encoded data removed]",
      "text/plain": [
       "<Figure size 432x288 with 1 Axes>"
      ]
     },
     "metadata": {},
     "output_type": "display_data"
    }
   ],
   "source": [
    "# YOUR CODE HERE\n",
    "\n",
    "fig, axes = plt.subplots()\n",
    "print(type(history3))\n",
    "axes.plot(history3.history['acc'])\n",
    "axes.plot(history3.history['val_acc'])\n",
    "plt.legend(['Training','Validation'])\n",
    "plt.title('Best model accuracy')\n",
    "plt.xlabel('Epoch')\n",
    "plt.ylabel('Accuracy')"
   ]
  },
  {
   "cell_type": "markdown",
   "metadata": {
    "deletable": false,
    "editable": false,
    "nbgrader": {
     "checksum": "69f51481b462b089daee7f896bad2cc3",
     "grade": false,
     "grade_id": "cell-c67bcc4fbec1808e",
     "locked": true,
     "schema_version": 1,
     "solution": false
    }
   },
   "source": [
    "[Save your model](https://keras.io/getting-started/faq/#how-can-i-save-a-keras-model) to disk as a HDF5 file (the architecture, weights and optimizer state). This is simply so you can use it again easily in the later parts of the notebook, without having to keep it in memory or re-training it. The actual `.h5` files you create are not relevant to your ping-pong submission."
   ]
  },
  {
   "cell_type": "code",
   "execution_count": 15,
   "metadata": {},
   "outputs": [],
   "source": [
    "model.save('best_own_model.h5')"
   ]
  },
  {
   "cell_type": "markdown",
   "metadata": {
    "deletable": false,
    "editable": false,
    "nbgrader": {
     "checksum": "f560cd87a745d9931d137a0224adb847",
     "grade": false,
     "grade_id": "cell-25f9cc8d17491d0d",
     "locked": true,
     "schema_version": 1,
     "solution": false
    }
   },
   "source": [
    "---\n",
    "## 5. Transfer Learning"
   ]
  },
  {
   "cell_type": "markdown",
   "metadata": {
    "deletable": false,
    "editable": false,
    "nbgrader": {
     "checksum": "2f9adb5c8ce6970840bc5d256e74ca69",
     "grade": false,
     "grade_id": "cell-cf9b347fc3ee9255",
     "locked": true,
     "schema_version": 1,
     "solution": false
    }
   },
   "source": [
    "Now, instead of trying to come up with a good architecture for this task, we'll use the VGG16 architecture, but with the top layers removed (the fully connected + classification layers). We'll substitute them with a single fully connected layer, and a classification layer that makes sense for our problem.\n",
    "\n",
    "However, this model has a very high capacity, and will probably suffer a lot from overfitting if we try to train it from scratch, using only our small subset of data. Instead, we'll start the optimization with the weights obtained after training VGG16 on the ImageNet dataset.\n",
    "\n",
    "Start by loading the VGG16 model without the top layers, from the `applications` submodule from Keras. Make sure to also load the weights obtained from the ImageNet pretraining."
   ]
  },
  {
   "cell_type": "code",
   "execution_count": 31,
   "metadata": {
    "deletable": false,
    "nbgrader": {
     "checksum": "984428d972274a469334141d07c8666a",
     "grade": true,
     "grade_id": "cell-01ebc4c9c306b985",
     "locked": false,
     "points": 0,
     "schema_version": 1,
     "solution": true
    }
   },
   "outputs": [],
   "source": [
    "# YOUR CODE HERE\n",
    "\n",
    "# VGG16 parameters\n",
    "include_top=False \n",
    "# whether to include the 3 fully-connected layers at the top of the network.\n",
    "weights='imagenet' \n",
    "# one of None (random initialization) or 'imagenet' (pre-training on ImageNet).\n",
    "input_tensor=None #Input(shape=(size,size,3)) \n",
    "# optional Keras tensor (i.e. output of layers.Input()) to use as image input for the model.\n",
    "input_shape=(size,size,3) \n",
    "# optional shape tuple, only to be specified if include_top is False \n",
    "# (otherwise the input shape has to be  (224, 224, 3) (with 'channels_last' data format) \n",
    "# or (3, 224, 224) (with 'channels_first' data format). It should have exactly 3 inputs channels, \n",
    "# and width and height should be no smaller than 32. E.g. (200, 200, 3) would be one valid value.\n",
    "pooling=None \n",
    "# Optional pooling mode for feature extraction when include_top is False. \n",
    "# None means that the output of the model will be the 4D tensor output of the last convolutional layer.\n",
    "# 'avg' means that global average pooling will be applied to the output of the last convolutional layer, \n",
    "#       and thus the output of the model will be a 2D tensor.\n",
    "# 'max' means that global max pooling will be applied.\n",
    "classes=None \n",
    "# optional number of classes to classify images into, only to be specified if include_top is True, and if no weights argument is specified\n",
    "\n",
    "vgg16_model = VGG16(include_top=include_top, \n",
    "                    weights=weights, \n",
    "                    input_tensor=input_tensor, \n",
    "                    input_shape=input_shape, \n",
    "                    pooling=pooling, \n",
    "                    classes=classes)\n"
   ]
  },
  {
   "cell_type": "markdown",
   "metadata": {
    "deletable": false,
    "editable": false,
    "nbgrader": {
     "checksum": "ee2e7869aeb45bf734d52c7559ab6cb6",
     "grade": false,
     "grade_id": "cell-faed8047ef25a60d",
     "locked": true,
     "schema_version": 1,
     "solution": false
    }
   },
   "source": [
    "Create a new model with the layers you want to add on top of VGG. The kernels and bias in these layers should be initialized randomly."
   ]
  },
  {
   "cell_type": "code",
   "execution_count": 32,
   "metadata": {
    "deletable": false,
    "nbgrader": {
     "checksum": "a22c7aa185d3eca27d8722755b0a41a1",
     "grade": true,
     "grade_id": "cell-56cb37360051a638",
     "locked": false,
     "points": 1,
     "schema_version": 1,
     "solution": true
    }
   },
   "outputs": [],
   "source": [
    "# YOUR CODE HERE\n",
    "\n",
    "def add_top_model(output_vgg16_model):\n",
    "    model = Flatten()(output_vgg16_model)\n",
    "    model = Dense(64, activation='relu',                         \n",
    "          kernel_initializer='random_uniform', \n",
    "          bias_initializer='random_uniform')(model)\n",
    "    model = Dense(64, activation='relu',\n",
    "          kernel_initializer='random_uniform', \n",
    "          bias_initializer='random_uniform')(model)\n",
    "    model = Dense(2, activation='softmax')(model)\n",
    "    return model"
   ]
  },
  {
   "cell_type": "markdown",
   "metadata": {
    "deletable": false,
    "editable": false,
    "nbgrader": {
     "checksum": "ff49bf63789cfb3023f59b7ff1de074b",
     "grade": false,
     "grade_id": "cell-d746f9eb61e3ea44",
     "locked": true,
     "schema_version": 1,
     "solution": false
    }
   },
   "source": [
    "Now add the new model on top of VGG.\n",
    "\n",
    "Tip:\n",
    "- The VGG model you loaded from the `applications` submodule is from the [`Model`](https://keras.io/models/model/) class, not the `Sequential` class, so it doesn't have some methods you're used to (like `add`, for instance). It might be helpful to read [this introduction to the Model class](https://keras.io/getting-started/functional-api-guide/)."
   ]
  },
  {
   "cell_type": "code",
   "execution_count": 33,
   "metadata": {
    "deletable": false,
    "nbgrader": {
     "checksum": "642f3cbea497868385adff16643091c4",
     "grade": true,
     "grade_id": "cell-76e4aad7fbcf5d05",
     "locked": false,
     "points": 0,
     "schema_version": 1,
     "solution": true
    }
   },
   "outputs": [
    {
     "name": "stdout",
     "output_type": "stream",
     "text": [
      "_________________________________________________________________\n",
      "Layer (type)                 Output Shape              Param #   \n",
      "=================================================================\n",
      "image_input (InputLayer)     (None, 128, 128, 3)       0         \n",
      "_________________________________________________________________\n",
      "vgg16 (Model)                (None, 4, 4, 512)         14714688  \n",
      "_________________________________________________________________\n",
      "flatten_6 (Flatten)          (None, 8192)              0         \n",
      "_________________________________________________________________\n",
      "dense_13 (Dense)             (None, 64)                524352    \n",
      "_________________________________________________________________\n",
      "dense_14 (Dense)             (None, 64)                4160      \n",
      "_________________________________________________________________\n",
      "dense_15 (Dense)             (None, 2)                 130       \n",
      "=================================================================\n",
      "Total params: 15,243,330\n",
      "Trainable params: 15,243,330\n",
      "Non-trainable params: 0\n",
      "_________________________________________________________________\n",
      "None\n"
     ]
    }
   ],
   "source": [
    "# YOUR CODE HERE\n",
    "\n",
    "input = Input(shape=(size,size,3),name = 'image_input')\n",
    "output_vgg16_model = vgg16_model(input)\n",
    "\n",
    "# Add top model\n",
    "full_model = add_top_model(output_vgg16_model)\n",
    "complete_model = Model(inputs=input, outputs=full_model)\n",
    "print(complete_model.summary())"
   ]
  },
  {
   "cell_type": "markdown",
   "metadata": {
    "deletable": false,
    "editable": false,
    "nbgrader": {
     "checksum": "e80006261cee156aafe6aac9408f2678",
     "grade": false,
     "grade_id": "cell-f76d1a7f6280af0d",
     "locked": true,
     "schema_version": 1,
     "solution": false
    }
   },
   "source": [
    "### 5.1 Using VGG features"
   ]
  },
  {
   "cell_type": "markdown",
   "metadata": {
    "deletable": false,
    "editable": false,
    "nbgrader": {
     "checksum": "2b12c99269787356513640faa3528233",
     "grade": false,
     "grade_id": "cell-270f8ec140ddfba3",
     "locked": true,
     "schema_version": 1,
     "solution": false
    }
   },
   "source": [
    "Now we're almost ready to train the new model. However, since the top layers of this architecture are being initialized randomly, it's sometimes possible for them to generate large gradients that can wreck the pretraining of the bottom layers. To avoid this, freeze all the VGG layers in your architecture (i.e. signal to the optimizer that these should not be changed during optimization) by setting the `trainable` attribute of them to `False`."
   ]
  },
  {
   "cell_type": "code",
   "execution_count": 34,
   "metadata": {
    "deletable": false,
    "nbgrader": {
     "checksum": "072f414eabdbed6bd1f0baa8e855e48f",
     "grade": true,
     "grade_id": "cell-bfb58ea46c31df0a",
     "locked": false,
     "points": 0,
     "schema_version": 1,
     "solution": true
    }
   },
   "outputs": [
    {
     "name": "stdout",
     "output_type": "stream",
     "text": [
      "_________________________________________________________________\n",
      "Layer (type)                 Output Shape              Param #   \n",
      "=================================================================\n",
      "image_input (InputLayer)     (None, 128, 128, 3)       0         \n",
      "_________________________________________________________________\n",
      "vgg16 (Model)                (None, 4, 4, 512)         14714688  \n",
      "_________________________________________________________________\n",
      "flatten_6 (Flatten)          (None, 8192)              0         \n",
      "_________________________________________________________________\n",
      "dense_13 (Dense)             (None, 64)                524352    \n",
      "_________________________________________________________________\n",
      "dense_14 (Dense)             (None, 64)                4160      \n",
      "_________________________________________________________________\n",
      "dense_15 (Dense)             (None, 2)                 130       \n",
      "=================================================================\n",
      "Total params: 15,243,330\n",
      "Trainable params: 528,642\n",
      "Non-trainable params: 14,714,688\n",
      "_________________________________________________________________\n",
      "None\n"
     ]
    }
   ],
   "source": [
    "# YOUR CODE HERE\n",
    "\n",
    "# Lock the VGG16 layers\n",
    "complete_model.layers[1].trainable = False\n",
    "print(complete_model.summary())"
   ]
  },
  {
   "cell_type": "markdown",
   "metadata": {
    "deletable": false,
    "editable": false,
    "nbgrader": {
     "checksum": "669e85a9b10286b41f6b40837f009d45",
     "grade": false,
     "grade_id": "cell-b508ede3d760a86b",
     "locked": true,
     "schema_version": 1,
     "solution": false
    }
   },
   "source": [
    "Create the callbacks (if any) you would like to use, compile the model and train it."
   ]
  },
  {
   "cell_type": "code",
   "execution_count": 35,
   "metadata": {
    "deletable": false,
    "nbgrader": {
     "checksum": "9c8cccd2e638d17af85d50f45cb05ee3",
     "grade": true,
     "grade_id": "cell-5a025e60545ca151",
     "locked": false,
     "points": 1,
     "schema_version": 1,
     "solution": true
    }
   },
   "outputs": [
    {
     "name": "stdout",
     "output_type": "stream",
     "text": [
      "Epoch 1/30\n",
      "32/32 [============================>.] - ETA: 4s - loss: 1.4066 - acc: 0.7168 \n",
      "33/32 [==============================] - 431s 13s/step - loss: 1.3990 - acc: 0.7198 - val_loss: 0.7336 - val_acc: 0.8153\n",
      "Epoch 2/30\n",
      "33/32 [==============================] - 445s 13s/step - loss: 0.7291 - acc: 0.8371 - val_loss: 0.5275 - val_acc: 0.8580\n",
      "Epoch 3/30\n",
      "33/32 [==============================] - 406s 12s/step - loss: 0.5777 - acc: 0.8409 - val_loss: 0.4697 - val_acc: 0.8647\n",
      "Epoch 4/30\n",
      "33/32 [==============================] - 419s 13s/step - loss: 0.3378 - acc: 0.8996 - val_loss: 0.3938 - val_acc: 0.8867\n",
      "Epoch 5/30\n",
      "33/32 [==============================] - 414s 13s/step - loss: 0.2151 - acc: 0.9331 - val_loss: 0.3966 - val_acc: 0.8800\n",
      "Epoch 6/30\n",
      "33/32 [==============================] - 411s 12s/step - loss: 0.1948 - acc: 0.9309 - val_loss: 0.3669 - val_acc: 0.8867\n",
      "Epoch 7/30\n",
      "33/32 [==============================] - 419s 13s/step - loss: 0.1416 - acc: 0.9593 - val_loss: 0.3493 - val_acc: 0.8867\n",
      "Epoch 8/30\n",
      "33/32 [==============================] - 420s 13s/step - loss: 0.0865 - acc: 0.9792 - val_loss: 0.3541 - val_acc: 0.8913\n",
      "Epoch 9/30\n",
      "33/32 [==============================] - 410s 12s/step - loss: 0.0552 - acc: 0.9867 - val_loss: 0.3611 - val_acc: 0.8913\n",
      "Epoch 10/30\n",
      "33/32 [==============================] - 410s 12s/step - loss: 0.0734 - acc: 0.9763 - val_loss: 0.3565 - val_acc: 0.8920\n",
      "Epoch 11/30\n",
      "33/32 [==============================] - 411s 12s/step - loss: 0.0375 - acc: 0.9972 - val_loss: 0.3605 - val_acc: 0.8907\n",
      "Epoch 12/30\n",
      "33/32 [==============================] - 417s 13s/step - loss: 0.0284 - acc: 0.9962 - val_loss: 0.3567 - val_acc: 0.8913\n",
      "Epoch 13/30\n",
      "33/32 [==============================] - 455s 14s/step - loss: 0.0269 - acc: 0.9962 - val_loss: 0.3528 - val_acc: 0.8920\n",
      "Epoch 14/30\n",
      "33/32 [==============================] - 413s 13s/step - loss: 0.0196 - acc: 0.9972 - val_loss: 0.3532 - val_acc: 0.8960\n",
      "Epoch 15/30\n",
      "33/32 [==============================] - 419s 13s/step - loss: 0.0145 - acc: 0.9981 - val_loss: 0.3580 - val_acc: 0.8967\n",
      "Epoch 16/30\n",
      "33/32 [==============================] - 410s 12s/step - loss: 0.0166 - acc: 0.9981 - val_loss: 0.3583 - val_acc: 0.8927\n",
      "Epoch 17/30\n",
      "33/32 [==============================] - 413s 13s/step - loss: 0.0257 - acc: 0.9991 - val_loss: 0.3563 - val_acc: 0.8940\n",
      "Epoch 18/30\n",
      "33/32 [==============================] - 410s 12s/step - loss: 0.0095 - acc: 1.0000 - val_loss: 0.3587 - val_acc: 0.8947\n",
      "Epoch 19/30\n",
      "33/32 [==============================] - 406s 12s/step - loss: 0.0086 - acc: 1.0000 - val_loss: 0.3607 - val_acc: 0.8933\n",
      "Epoch 20/30\n",
      "33/32 [==============================] - 417s 13s/step - loss: 0.0230 - acc: 0.9991 - val_loss: 0.3640 - val_acc: 0.8947\n"
     ]
    }
   ],
   "source": [
    "# YOUR CODE HERE\n",
    "\n",
    "# Compile and train\n",
    "optimizer = Adam(lr=1e-4, beta_1=0.9, beta_2=0.999, epsilon=None, decay=0.0, amsgrad=False)\n",
    "\n",
    "complete_model.compile(loss='categorical_crossentropy', optimizer=optimizer, metrics=['accuracy'])\n",
    "\n",
    "estop = EarlyStopping(monitor='val_acc', patience=5)\n",
    "\n",
    "# Input data\n",
    "generator = train_iterator\n",
    "validation_data = val_iterator\n",
    "\n",
    "steps_per_epoch=350*3/batch_size\n",
    "epochs=30\n",
    "verbose=1\n",
    "callbacks=[estop]\n",
    "validation_steps=None\n",
    "class_weight=None \n",
    "max_queue_size=10\n",
    "workers=4\n",
    "use_multiprocessing=True\n",
    "shuffle=True\n",
    "initial_epoch=0\n",
    "\n",
    "history_vgg_train_top = complete_model.fit_generator(\n",
    "    generator=generator,\n",
    "    steps_per_epoch=steps_per_epoch,\n",
    "    epochs=epochs,\n",
    "    verbose=verbose,\n",
    "    callbacks=callbacks,\n",
    "    validation_data=validation_data,\n",
    "    validation_steps=validation_steps,\n",
    "    class_weight=class_weight ,\n",
    "    max_queue_size=max_queue_size,\n",
    "    workers=workers,\n",
    "    use_multiprocessing=use_multiprocessing,\n",
    "    shuffle=shuffle,\n",
    "    initial_epoch=initial_epoch)"
   ]
  },
  {
   "cell_type": "markdown",
   "metadata": {
    "deletable": false,
    "editable": false,
    "nbgrader": {
     "checksum": "f4045831d222640d7baf44a285c3de97",
     "grade": false,
     "grade_id": "cell-ad79e1aa5c4a6185",
     "locked": true,
     "schema_version": 1,
     "solution": false
    }
   },
   "source": [
    "Create one figure with two axes. In one of them, plot the loss in the training and the validation datasets. In the other one, plot the accuracy in the training and validation datasets."
   ]
  },
  {
   "cell_type": "code",
   "execution_count": 36,
   "metadata": {
    "deletable": false,
    "nbgrader": {
     "checksum": "99986b7bbdfb6b78c25112751969d11f",
     "grade": true,
     "grade_id": "cell-f17c882b2a09dee7",
     "locked": false,
     "points": 0,
     "schema_version": 1,
     "solution": true
    }
   },
   "outputs": [
    {
     "data": {
      "text/plain": [
       "Text(0,0.5,'Accuracy')"
      ]
     },
     "execution_count": 36,
     "metadata": {},
     "output_type": "execute_result"
    },
    {
     "data": {
      "image/png": "[encoded data removed]",
      "text/plain": [
       "<Figure size 432x288 with 1 Axes>"
      ]
     },
     "metadata": {},
     "output_type": "display_data"
    }
   ],
   "source": [
    "# YOUR CODE HERE\n",
    "\n",
    "fig, axes = plt.subplots()\n",
    "axes.plot(history_vgg_train_top.history['acc'])\n",
    "axes.plot(history_vgg_train_top.history['val_acc'])\n",
    "plt.legend(['Training','Validation'])\n",
    "plt.title('VGG16 top layers trained: accuracy')\n",
    "plt.xlabel('Epoch')\n",
    "plt.ylabel('Accuracy')"
   ]
  },
  {
   "cell_type": "markdown",
   "metadata": {
    "deletable": false,
    "editable": false,
    "nbgrader": {
     "checksum": "7e3c0eb41e650ec3e30733ab5ea488d1",
     "grade": false,
     "grade_id": "cell-779d477ffe1ebbf6",
     "locked": true,
     "schema_version": 1,
     "solution": false
    }
   },
   "source": [
    "How does the model perform, compared to the model obtained in step 4? Create one plot with the training accuracy and another with the validation accuracy of the two scenarios."
   ]
  },
  {
   "cell_type": "code",
   "execution_count": 37,
   "metadata": {
    "deletable": false,
    "nbgrader": {
     "checksum": "873c045fa2e6f22815a90194ed2785f3",
     "grade": true,
     "grade_id": "cell-e3e3990ba39bea67",
     "locked": false,
     "points": 0,
     "schema_version": 1,
     "solution": true
    }
   },
   "outputs": [
    {
     "data": {
      "text/plain": [
       "Text(0,0.5,'Accuracy')"
      ]
     },
     "execution_count": 37,
     "metadata": {},
     "output_type": "execute_result"
    },
    {
     "data": {
      "image/png": "[encoded data removed]",
      "text/plain": [
       "<Figure size 432x288 with 1 Axes>"
      ]
     },
     "metadata": {},
     "output_type": "display_data"
    }
   ],
   "source": [
    "# YOUR CODE HERE\n",
    "\n",
    "fig, axes = plt.subplots()\n",
    "axes.plot(history_vgg_train_top.history['acc'])\n",
    "axes.plot(history_vgg_train_top.history['val_acc'])\n",
    "axes.plot(history3.history['acc'])\n",
    "axes.plot(history3.history['val_acc'])\n",
    "plt.legend(['Training VGG16 top layers trained','Validation VGG16 top layers trained',\n",
    "            'Training best own model','Validation best own model'])\n",
    "plt.title('Comparision of VGG16 top layers trained and best own model: accuracy')\n",
    "plt.xlabel('Epoch')\n",
    "plt.ylabel('Accuracy')"
   ]
  },
  {
   "cell_type": "markdown",
   "metadata": {
    "deletable": false,
    "editable": false,
    "nbgrader": {
     "checksum": "49a22cb7fa7d4bc6335f5185d419101e",
     "grade": false,
     "grade_id": "cell-b84dd461d5ddcc8d",
     "locked": true,
     "schema_version": 1,
     "solution": false
    }
   },
   "source": [
    "Compare these results. Which approach worked best, starting from scratch or doing transfer learning? Explain how you evaluated this."
   ]
  },
  {
   "cell_type": "markdown",
   "metadata": {
    "deletable": false,
    "nbgrader": {
     "checksum": "58110ed91d1dc2020287d64755fafddd",
     "grade": true,
     "grade_id": "cell-f9e1a6a643946cd2",
     "locked": false,
     "points": 0.25,
     "schema_version": 1,
     "solution": true
    }
   },
   "source": [
    "**Your answer:** The transfer learning worked better, which can be seen from the above plot. The validation accuracy reached a much higher score and it has less bias (higher training score)."
   ]
  },
  {
   "cell_type": "markdown",
   "metadata": {
    "deletable": false,
    "editable": false,
    "nbgrader": {
     "checksum": "f1d1fd0b9a00091e75a5bd0eaa19a8bf",
     "grade": false,
     "grade_id": "cell-c8afb448c67da5f8",
     "locked": true,
     "schema_version": 1,
     "solution": false
    }
   },
   "source": [
    "What are the main differences between the ImageNet dataset and the Dogs vs Cats dataset we used?"
   ]
  },
  {
   "cell_type": "markdown",
   "metadata": {
    "deletable": false,
    "nbgrader": {
     "checksum": "36cc539d06e12eba46249e29640ce6a1",
     "grade": true,
     "grade_id": "cell-2be321b63232ae01",
     "locked": false,
     "points": 0.25,
     "schema_version": 1,
     "solution": true
    }
   },
   "source": [
    "**Your answer:** ImageNet contains thousands of classes (including multiples classes of different dog and cat breeds) while our dataset only has two classes and does not distinguish between different breeds."
   ]
  },
  {
   "cell_type": "markdown",
   "metadata": {
    "deletable": false,
    "editable": false,
    "nbgrader": {
     "checksum": "1c0b0eae153b6076ca628a773203df42",
     "grade": false,
     "grade_id": "cell-71a8b8de004f6e57",
     "locked": true,
     "schema_version": 1,
     "solution": false
    }
   },
   "source": [
    "Even though there are considerable differences between these datasets, why is it that transfer learning is still a good idea?"
   ]
  },
  {
   "cell_type": "markdown",
   "metadata": {
    "deletable": false,
    "nbgrader": {
     "checksum": "7a990cd4099df100c9dc733bee0db608",
     "grade": true,
     "grade_id": "cell-655d00face15a862",
     "locked": false,
     "points": 0.25,
     "schema_version": 1,
     "solution": true
    }
   },
   "source": [
    "**Your answer:** Since the ImageNet contains classes for cats and dogs, VGG16 has already been trained to understand the difference between dogs and cats. But the ImageNet dataset is much much larger than our dataset so even though ImageNet contains many more classes, the distinction between cats and dogs can be trained much better."
   ]
  },
  {
   "cell_type": "markdown",
   "metadata": {
    "deletable": false,
    "editable": false,
    "nbgrader": {
     "checksum": "2d9425a067d87ef11d206088e82bb3c7",
     "grade": false,
     "grade_id": "cell-19785940b9624d2c",
     "locked": true,
     "schema_version": 1,
     "solution": false
    }
   },
   "source": [
    "In which scenario would transfer learning be unsuitable?"
   ]
  },
  {
   "cell_type": "markdown",
   "metadata": {
    "deletable": false,
    "nbgrader": {
     "checksum": "8ab35c98ddf1c98635eb188a197fd885",
     "grade": true,
     "grade_id": "cell-e79df7472ff5506a",
     "locked": false,
     "points": 0.25,
     "schema_version": 1,
     "solution": true
    }
   },
   "source": [
    "**Your answer:** If the transfered weights were trained on data which does not contain the appropriate classes, it does not matter that the dataset was large. For example, if the transfered weights were trained on recognizing chairs and tables, it would not help us since there are very few relevant features that animals and furniture share."
   ]
  },
  {
   "cell_type": "markdown",
   "metadata": {
    "deletable": false,
    "editable": false,
    "nbgrader": {
     "checksum": "bbea73c6a2825f9b3e730907ba3ae71f",
     "grade": false,
     "grade_id": "cell-111f2b1d28919293",
     "locked": true,
     "schema_version": 1,
     "solution": false
    }
   },
   "source": [
    "Save the model to a HDF5 file."
   ]
  },
  {
   "cell_type": "code",
   "execution_count": 38,
   "metadata": {},
   "outputs": [],
   "source": [
    "complete_model.save('trans_learning_top_only.h5')"
   ]
  },
  {
   "cell_type": "markdown",
   "metadata": {
    "deletable": false,
    "editable": false,
    "nbgrader": {
     "checksum": "8b8007704893660e8abc0c87b9028923",
     "grade": false,
     "grade_id": "cell-544a73726bebe121",
     "locked": true,
     "schema_version": 1,
     "solution": false
    }
   },
   "source": [
    "### 5.2 Fine-tuning"
   ]
  },
  {
   "cell_type": "markdown",
   "metadata": {
    "deletable": false,
    "editable": false,
    "nbgrader": {
     "checksum": "6b5a44cfe68ff124f447339454f4f3ee",
     "grade": false,
     "grade_id": "cell-1ee9ebc87fd3358e",
     "locked": true,
     "schema_version": 1,
     "solution": false
    }
   },
   "source": [
    "Now that we have a better starting point for the top layers, we can train the entire network. Unfreeze the bottom layers.\n",
    "\n",
    "Tip:\n",
    "- Always recompile your model after changing anything in it!"
   ]
  },
  {
   "cell_type": "code",
   "execution_count": 41,
   "metadata": {
    "deletable": false,
    "nbgrader": {
     "checksum": "412d6cf989068c151bd4b3f4085e7194",
     "grade": true,
     "grade_id": "cell-3918c2cdd9817f7e",
     "locked": false,
     "points": 0,
     "schema_version": 1,
     "solution": true
    }
   },
   "outputs": [
    {
     "name": "stdout",
     "output_type": "stream",
     "text": [
      "_________________________________________________________________\n",
      "Layer (type)                 Output Shape              Param #   \n",
      "=================================================================\n",
      "image_input (InputLayer)     (None, 128, 128, 3)       0         \n",
      "_________________________________________________________________\n",
      "vgg16 (Model)                (None, 4, 4, 512)         14714688  \n",
      "_________________________________________________________________\n",
      "flatten_6 (Flatten)          (None, 8192)              0         \n",
      "_________________________________________________________________\n",
      "dense_13 (Dense)             (None, 64)                524352    \n",
      "_________________________________________________________________\n",
      "dense_14 (Dense)             (None, 64)                4160      \n",
      "_________________________________________________________________\n",
      "dense_15 (Dense)             (None, 2)                 130       \n",
      "=================================================================\n",
      "Total params: 15,243,330\n",
      "Trainable params: 15,243,330\n",
      "Non-trainable params: 0\n",
      "_________________________________________________________________\n",
      "None\n"
     ]
    },
    {
     "name": "stderr",
     "output_type": "stream",
     "text": [
      "/Users/timhell/anaconda3/envs/dml/lib/python3.6/site-packages/keras/engine/saving.py:304: UserWarning: Error in loading the saved optimizer state. As a result, your model is starting with a freshly initialized optimizer.\n",
      "  warnings.warn('Error in loading the saved optimizer '\n"
     ]
    }
   ],
   "source": [
    "# YOUR CODE HERE\n",
    "\n",
    "complete_model = load_model('trans_learning_top_only.h5')\n",
    "# Unfreeze VGG16 layers\n",
    "complete_model.layers[1].trainable = True\n",
    "print(complete_model.summary())"
   ]
  },
  {
   "cell_type": "markdown",
   "metadata": {
    "deletable": false,
    "editable": false,
    "nbgrader": {
     "checksum": "ff2a177a54d2f9830995848f8de425b8",
     "grade": false,
     "grade_id": "cell-80fa8c89f1b262f1",
     "locked": true,
     "schema_version": 1,
     "solution": false
    }
   },
   "source": [
    "Create the callbacks (if any) you would like to use for this training here, compile the model, and train it.\n",
    "\n",
    "Tip:\n",
    "- Even though we do have a decent starting point for the optimization, it's still possible that a bad hyper-parameter choice wrecks the preinitialization. Make sure to use a small learning rate for this step."
   ]
  },
  {
   "cell_type": "code",
   "execution_count": 42,
   "metadata": {
    "deletable": false,
    "nbgrader": {
     "checksum": "6814e17803f83868b0fd75d82f421ec3",
     "grade": true,
     "grade_id": "cell-594c6039216461e5",
     "locked": false,
     "points": 1,
     "schema_version": 1,
     "solution": true
    }
   },
   "outputs": [
    {
     "name": "stdout",
     "output_type": "stream",
     "text": [
      "Epoch 1/10\n",
      "33/32 [==============================] - 825s 25s/step - loss: 0.0496 - acc: 0.9867 - val_loss: 0.3613 - val_acc: 0.8967\n",
      "Epoch 2/10\n",
      "33/32 [==============================] - 784s 24s/step - loss: 0.0605 - acc: 0.9744 - val_loss: 0.3774 - val_acc: 0.9207\n",
      "Epoch 3/10\n",
      "33/32 [==============================] - 784s 24s/step - loss: 0.0634 - acc: 0.9744 - val_loss: 0.3447 - val_acc: 0.9147\n",
      "Epoch 4/10\n",
      "33/32 [==============================] - 792s 24s/step - loss: 0.0327 - acc: 0.9858 - val_loss: 0.3995 - val_acc: 0.9073\n",
      "Epoch 5/10\n",
      "33/32 [==============================] - 798s 24s/step - loss: 0.0228 - acc: 0.9886 - val_loss: 0.4112 - val_acc: 0.9140\n"
     ]
    }
   ],
   "source": [
    "# YOUR CODE HERE\n",
    "\n",
    "# Compile and train\n",
    "optimizer = Adam(lr=1e-5, beta_1=0.9, beta_2=0.999, epsilon=None, decay=0.0, amsgrad=False)\n",
    "\n",
    "complete_model.compile(loss='categorical_crossentropy', optimizer=optimizer, metrics=['accuracy'])\n",
    "\n",
    "estop = EarlyStopping(monitor='val_acc', patience=3)\n",
    "\n",
    "# Input data\n",
    "generator = train_iterator\n",
    "validation_data = val_iterator\n",
    "\n",
    "steps_per_epoch=350*3/batch_size\n",
    "epochs=10\n",
    "verbose=1\n",
    "callbacks=[estop]\n",
    "validation_steps=None\n",
    "class_weight=None \n",
    "max_queue_size=10\n",
    "workers=6\n",
    "use_multiprocessing=True\n",
    "shuffle=True\n",
    "initial_epoch=0\n",
    "\n",
    "history_vgg_train_all = complete_model.fit_generator(\n",
    "    generator=generator,\n",
    "    steps_per_epoch=steps_per_epoch,\n",
    "    epochs=epochs,\n",
    "    verbose=verbose,\n",
    "    callbacks=callbacks,\n",
    "    validation_data=validation_data,\n",
    "    validation_steps=validation_steps,\n",
    "    class_weight=class_weight ,\n",
    "    max_queue_size=max_queue_size,\n",
    "    workers=workers,\n",
    "    use_multiprocessing=use_multiprocessing,\n",
    "    shuffle=shuffle,\n",
    "    initial_epoch=initial_epoch)\n",
    " "
   ]
  },
  {
   "cell_type": "markdown",
   "metadata": {
    "deletable": false,
    "editable": false,
    "nbgrader": {
     "checksum": "653d29a729772d9cb73bfbe24fc76065",
     "grade": false,
     "grade_id": "cell-5dc3e388a41da3ed",
     "locked": true,
     "schema_version": 1,
     "solution": false
    }
   },
   "source": [
    "How does the model perform, compared to the model trained with freezed layers? Create one plot with the training accuracy and another with the validation accuracy of the two scenarios."
   ]
  },
  {
   "cell_type": "code",
   "execution_count": 43,
   "metadata": {
    "deletable": false,
    "nbgrader": {
     "checksum": "b7b2e69e2ffc7f5bff07ba62225b4cee",
     "grade": true,
     "grade_id": "cell-7edb12ee397ec817",
     "locked": false,
     "points": 0,
     "schema_version": 1,
     "solution": true
    }
   },
   "outputs": [
    {
     "data": {
      "text/plain": [
       "Text(0,0.5,'Accuracy')"
      ]
     },
     "execution_count": 43,
     "metadata": {},
     "output_type": "execute_result"
    },
    {
     "data": {
      "image/png": "[encoded data removed]",
      "text/plain": [
       "<Figure size 432x288 with 1 Axes>"
      ]
     },
     "metadata": {},
     "output_type": "display_data"
    }
   ],
   "source": [
    "# YOUR CODE HERE\n",
    "fig, axes = plt.subplots()\n",
    "axes.plot(history_vgg_train_top.history['acc'])\n",
    "axes.plot(history_vgg_train_top.history['val_acc'])\n",
    "axes.plot(history_vgg_train_all.history['acc'])\n",
    "axes.plot(history_vgg_train_all.history['val_acc'])\n",
    "plt.legend(['Training VGG16 top layers trained','Validation VGG16 top layers trained',\n",
    "            'Training VGG16 all layers trained','Validation VGG16 all layers trained'])\n",
    "plt.title('Comparision of VGG16 top layers trained and all layers trained: accuracy')\n",
    "plt.xlabel('Epoch')\n",
    "plt.ylabel('Accuracy')"
   ]
  },
  {
   "cell_type": "markdown",
   "metadata": {
    "deletable": false,
    "editable": false,
    "nbgrader": {
     "checksum": "c14cf7017869bbc745425dc4c9d4a7a9",
     "grade": false,
     "grade_id": "cell-5dae528a81d5ff24",
     "locked": true,
     "schema_version": 1,
     "solution": false
    }
   },
   "source": [
    "Did the model's performance improve? Why (why not)?"
   ]
  },
  {
   "cell_type": "markdown",
   "metadata": {
    "deletable": false,
    "nbgrader": {
     "checksum": "69dfca588131944b0e9825a1532de432",
     "grade": true,
     "grade_id": "cell-0f4a5edca490320e",
     "locked": false,
     "points": 1,
     "schema_version": 1,
     "solution": true
    }
   },
   "source": [
    "**Your answer:** The performance increased by a bit. The final validation accuracy is 0.91 compared to 0.89, and this is done using only the small dataset. For this model, only 5 epochs were completed since the validation score did not increase after the second epoch (the patience was set to 3). The performance improved since we now adjust the VGG16 layers to better fit our dataset consisting of only cats and dogs."
   ]
  },
  {
   "cell_type": "markdown",
   "metadata": {
    "deletable": false,
    "editable": false,
    "nbgrader": {
     "checksum": "b4d50b78d6ec765ce5b0f627873fa5e3",
     "grade": false,
     "grade_id": "cell-4ed3967e4f6c5f7f",
     "locked": true,
     "schema_version": 1,
     "solution": false
    }
   },
   "source": [
    "Save the model to a HDF5 file."
   ]
  },
  {
   "cell_type": "code",
   "execution_count": 44,
   "metadata": {},
   "outputs": [],
   "source": [
    "complete_model.save('trans_learning_full.h5')"
   ]
  },
  {
   "cell_type": "markdown",
   "metadata": {
    "deletable": false,
    "editable": false,
    "nbgrader": {
     "checksum": "512bd4321118a59c1774035ffde4470d",
     "grade": false,
     "grade_id": "cell-56908ee1e60aa411",
     "locked": true,
     "schema_version": 1,
     "solution": false
    }
   },
   "source": [
    "### 5.3 Improving the top model (optional)"
   ]
  },
  {
   "cell_type": "markdown",
   "metadata": {
    "deletable": false,
    "editable": false,
    "nbgrader": {
     "checksum": "a63ad0cdc8ae853a3b9b6ebd16904186",
     "grade": false,
     "grade_id": "cell-3c8d8e5ab949ee35",
     "locked": true,
     "schema_version": 1,
     "solution": false
    }
   },
   "source": [
    "Improve the architecture for the layers you add on top of VGG16. Try different ideas, and consider comparing them using tensorboard. When you're happy with one architecture, copy it in the cell below and train it here."
   ]
  },
  {
   "cell_type": "code",
   "execution_count": null,
   "metadata": {
    "deletable": false,
    "nbgrader": {
     "checksum": "8e78037ef98c08769cd8104d7541cb51",
     "grade": true,
     "grade_id": "cell-22d09c8401d84b61",
     "locked": false,
     "points": 1,
     "schema_version": 1,
     "solution": true
    }
   },
   "outputs": [],
   "source": [
    "# YOUR CODE HERE"
   ]
  },
  {
   "cell_type": "markdown",
   "metadata": {
    "deletable": false,
    "editable": false,
    "nbgrader": {
     "checksum": "d040142833a356a7174729a7a8aadb1c",
     "grade": false,
     "grade_id": "cell-48933baad6c5afeb",
     "locked": true,
     "schema_version": 1,
     "solution": false
    }
   },
   "source": [
    "How does the model perform, compared to the model trained in step 5.2? Create one plot with the training accuracy and another with the validation accuracy of the two scenarios."
   ]
  },
  {
   "cell_type": "code",
   "execution_count": null,
   "metadata": {
    "deletable": false,
    "nbgrader": {
     "checksum": "0bac4e10ca36850170af565096710d1c",
     "grade": true,
     "grade_id": "cell-7cb62a04916a848e",
     "locked": false,
     "points": 0,
     "schema_version": 1,
     "solution": true
    }
   },
   "outputs": [],
   "source": [
    "# YOUR CODE HERE"
   ]
  },
  {
   "cell_type": "markdown",
   "metadata": {
    "deletable": false,
    "editable": false,
    "nbgrader": {
     "checksum": "729c848775b6b7c20775151cffe38bfa",
     "grade": false,
     "grade_id": "cell-8bbfa3e11e2dfff9",
     "locked": true,
     "schema_version": 1,
     "solution": false
    }
   },
   "source": [
    "Save the model to a HDF5 file."
   ]
  },
  {
   "cell_type": "code",
   "execution_count": null,
   "metadata": {},
   "outputs": [],
   "source": [
    "#model.save('best_trans_learning.h5')"
   ]
  },
  {
   "cell_type": "markdown",
   "metadata": {
    "deletable": false,
    "editable": false,
    "nbgrader": {
     "checksum": "4b192e3a46581dd6f57326ddb21ee49c",
     "grade": false,
     "grade_id": "cell-ad0efbac33de5a65",
     "locked": true,
     "schema_version": 1,
     "solution": false
    }
   },
   "source": [
    "## 6. Final training"
   ]
  },
  {
   "cell_type": "markdown",
   "metadata": {
    "deletable": false,
    "editable": false,
    "nbgrader": {
     "checksum": "6e460754d2c0f05f0e79ae982a3fe3d3",
     "grade": false,
     "grade_id": "cell-cf811afdac96843b",
     "locked": true,
     "schema_version": 1,
     "solution": false
    }
   },
   "source": [
    "Now we'll train the model that achieved the best performance so far using the entire dataset.\n",
    "\n",
    "**Note**: start the optimization with the weights you obtained training in the smaller subset, i.e. *not* from scratch."
   ]
  },
  {
   "cell_type": "markdown",
   "metadata": {
    "deletable": false,
    "editable": false,
    "nbgrader": {
     "checksum": "10fada090ba96eae198313ce7e9f1e22",
     "grade": false,
     "grade_id": "cell-3ae2a65188e4ac74",
     "locked": true,
     "schema_version": 1,
     "solution": false
    }
   },
   "source": [
    "First, create two new data generators, one for training samples and one for validation samples. This time, they'll load data from the folders for the entire dataset."
   ]
  },
  {
   "cell_type": "code",
   "execution_count": 48,
   "metadata": {
    "deletable": false,
    "nbgrader": {
     "checksum": "62bfd99d9d34913ada18493c74745706",
     "grade": true,
     "grade_id": "cell-64eaa83780f5eac9",
     "locked": false,
     "points": 0,
     "schema_version": 1,
     "solution": true
    }
   },
   "outputs": [
    {
     "name": "stdout",
     "output_type": "stream",
     "text": [
      "Found 20000 images belonging to 2 classes.\n",
      "Found 5000 images belonging to 2 classes.\n"
     ]
    }
   ],
   "source": [
    "# YOUR CODE HERE\n",
    "\n",
    "large_dataset_model = load_model('trans_learning_full.h5')\n",
    "\n",
    "# Creating generators\n",
    "train_directory = train_path\n",
    "val_directory = val_path\n",
    "size = 128\n",
    "target_size=(size, size)\n",
    "color_mode='rgb'\n",
    "classes=['dogs', 'cats']\n",
    "class_mode='categorical'\n",
    "batch_size=64\n",
    "shuffle=True\n",
    "seed=None\n",
    "save_to_dir=None\n",
    "save_prefix=''\n",
    "save_format='jpg'\n",
    "follow_links=False\n",
    "subset=None\n",
    "interpolation='nearest'\n",
    "\n",
    "train_generator = ImageDataGenerator()\n",
    "train_iterator = train_generator.flow_from_directory(train_directory, target_size, color_mode, classes, class_mode, batch_size, shuffle, seed, save_to_dir, save_prefix, save_format, follow_links, subset, interpolation)\n",
    "\n",
    "val_generator = ImageDataGenerator()\n",
    "val_iterator = val_generator.flow_from_directory(val_directory, target_size,color_mode, classes, class_mode, batch_size, shuffle, seed, save_to_dir, save_prefix, save_format, follow_links, subset, interpolation)\n"
   ]
  },
  {
   "cell_type": "markdown",
   "metadata": {
    "deletable": false,
    "editable": false,
    "nbgrader": {
     "checksum": "e7ae11154dee1b18040a35a6990ed284",
     "grade": false,
     "grade_id": "cell-f3f79586de42561b",
     "locked": true,
     "schema_version": 1,
     "solution": false
    }
   },
   "source": [
    "Create the callbacks you would like to use and train your model. This optimization might take a long time, so TensorBoard is advised ;)."
   ]
  },
  {
   "cell_type": "code",
   "execution_count": 49,
   "metadata": {
    "deletable": false,
    "nbgrader": {
     "checksum": "bad26172f9b786e6209e418f1ace058e",
     "grade": true,
     "grade_id": "cell-c7dd71a632b5f152",
     "locked": false,
     "points": 2,
     "schema_version": 1,
     "solution": true
    }
   },
   "outputs": [
    {
     "name": "stdout",
     "output_type": "stream",
     "text": [
      "Epoch 1/5\n",
      "31/31 [============================>.] - ETA: 8s - loss: 0.2962 - acc: 0.9088 \n",
      "32/31 [==============================] - 1952s 61s/step - loss: 0.2951 - acc: 0.9087 - val_loss: 0.2558 - val_acc: 0.9134\n",
      "Epoch 2/5\n",
      "32/31 [==============================] - 1950s 61s/step - loss: 0.2088 - acc: 0.9390 - val_loss: 0.2288 - val_acc: 0.9362\n",
      "Epoch 3/5\n",
      "32/31 [==============================] - 1961s 61s/step - loss: 0.2073 - acc: 0.9307 - val_loss: 0.2035 - val_acc: 0.9260\n",
      "Epoch 4/5\n",
      "32/31 [==============================] - 1952s 61s/step - loss: 0.1893 - acc: 0.9307 - val_loss: 0.1704 - val_acc: 0.9376\n",
      "Epoch 5/5\n",
      "32/31 [==============================] - 1946s 61s/step - loss: 0.1605 - acc: 0.9370 - val_loss: 0.1605 - val_acc: 0.9390\n"
     ]
    }
   ],
   "source": [
    "# YOUR CODE HERE\n",
    "\n",
    "# Compile, callback, and train\n",
    "optimizer = Adam(lr=1e-5, beta_1=0.9, beta_2=0.999, epsilon=None, decay=0.0, amsgrad=False)\n",
    "\n",
    "large_dataset_model.compile(loss='categorical_crossentropy', optimizer=optimizer, metrics=['accuracy'])\n",
    "\n",
    "estop = EarlyStopping(monitor='val_acc', patience=10)\n",
    "\n",
    "# Input data\n",
    "generator = train_iterator\n",
    "validation_data = val_iterator\n",
    "\n",
    "steps_per_epoch=2000/batch_size\n",
    "epochs=5\n",
    "verbose=1\n",
    "callbacks=[estop]\n",
    "validation_steps=None\n",
    "class_weight=None \n",
    "max_queue_size=10\n",
    "workers=4\n",
    "use_multiprocessing=True\n",
    "shuffle=True\n",
    "initial_epoch=0\n",
    "\n",
    "history_vgg_large_dataset = large_dataset_model.fit_generator(\n",
    "    generator=generator,\n",
    "    steps_per_epoch=steps_per_epoch,\n",
    "    epochs=epochs,\n",
    "    verbose=verbose,\n",
    "    callbacks=callbacks,\n",
    "    validation_data=validation_data,\n",
    "    validation_steps=validation_steps,\n",
    "    class_weight=class_weight ,\n",
    "    max_queue_size=max_queue_size,\n",
    "    workers=workers,\n",
    "    use_multiprocessing=use_multiprocessing,\n",
    "    shuffle=shuffle,\n",
    "    initial_epoch=initial_epoch)\n",
    "\n",
    "os.chdir(home_path)\n",
    "large_dataset_model.save('large_dataset.h5')"
   ]
  },
  {
   "cell_type": "markdown",
   "metadata": {
    "deletable": false,
    "editable": false,
    "nbgrader": {
     "checksum": "d0ab46f558fb4b49f877ca0bae45376b",
     "grade": false,
     "grade_id": "cell-b1861d3a543c6386",
     "locked": true,
     "schema_version": 1,
     "solution": false
    }
   },
   "source": [
    "How does the model perform now when trained on the entire dataset, compared to when only trained on the smaller subset of data? Create one plot with the training accuracy and another with the validation accuracy of the two scenarios."
   ]
  },
  {
   "cell_type": "code",
   "execution_count": 50,
   "metadata": {
    "deletable": false,
    "nbgrader": {
     "checksum": "52bacfa672fbc7eca004c87d041e3411",
     "grade": true,
     "grade_id": "cell-ceaac6be60ce36a9",
     "locked": false,
     "points": 0,
     "schema_version": 1,
     "solution": true
    }
   },
   "outputs": [
    {
     "data": {
      "text/plain": [
       "Text(0,0.5,'Accuracy')"
      ]
     },
     "execution_count": 50,
     "metadata": {},
     "output_type": "execute_result"
    },
    {
     "data": {
      "image/png": "[encoded data removed]",
      "text/plain": [
       "<Figure size 432x288 with 1 Axes>"
      ]
     },
     "metadata": {},
     "output_type": "display_data"
    }
   ],
   "source": [
    "# YOUR CODE HERE\n",
    "\n",
    "fig, axes = plt.subplots()\n",
    "axes.plot(history_vgg_large_dataset.history['acc'])\n",
    "axes.plot(history_vgg_large_dataset.history['val_acc'])\n",
    "axes.plot(history_vgg_train_all.history['acc'])\n",
    "axes.plot(history_vgg_train_all.history['val_acc'])\n",
    "plt.legend(['Training VGG16 large dataset','Validation VGG16 large dataset',\n",
    "            'Training VGG16 small dataset','Validation VGG16 small dataset'])\n",
    "plt.title('Comparision of VGG16 trained on large and small datasets: accuracy')\n",
    "plt.xlabel('Epoch')\n",
    "plt.ylabel('Accuracy')"
   ]
  },
  {
   "cell_type": "markdown",
   "metadata": {
    "deletable": false,
    "editable": false,
    "nbgrader": {
     "checksum": "fa3d1d443f52a1489ac198ca29ddd0c9",
     "grade": false,
     "grade_id": "cell-b38092b08c150e7d",
     "locked": true,
     "schema_version": 1,
     "solution": false
    }
   },
   "source": [
    "What can you conclude from these plots?"
   ]
  },
  {
   "cell_type": "markdown",
   "metadata": {
    "deletable": false,
    "nbgrader": {
     "checksum": "3a4a7b569af9834b505cc8d5daffb2d1",
     "grade": true,
     "grade_id": "cell-694a3fbb7f081da8",
     "locked": false,
     "points": 1,
     "schema_version": 1,
     "solution": true
    }
   },
   "source": [
    "**Your answer:** The larger dataset gives higher bias which sort of makes sense since the dataset is larger (harder to learn the training data from limited amounts of epochs). For this model too, only 5 epochs were completed because it should be compared to the previous model, but also because of limited computational time available. The larger dataset gives a better validation score which also makes sense, because the dataset is larger it becomes easier to generalize."
   ]
  },
  {
   "cell_type": "markdown",
   "metadata": {
    "deletable": false,
    "editable": false,
    "nbgrader": {
     "checksum": "da9293dc623b91059c547544b509ad7b",
     "grade": false,
     "grade_id": "cell-5e1ddfbfceb4d194",
     "locked": true,
     "schema_version": 1,
     "solution": false
    }
   },
   "source": [
    "## 7. Evaluation on test set"
   ]
  },
  {
   "cell_type": "markdown",
   "metadata": {
    "deletable": false,
    "editable": false,
    "nbgrader": {
     "checksum": "cd96692057f0be0c7cb1e9c2769f0991",
     "grade": false,
     "grade_id": "cell-a97630bf5d85363f",
     "locked": true,
     "schema_version": 1,
     "solution": false
    }
   },
   "source": [
    "Now we'll evaluate your final model, obtained in step 6, on the test set. As mentioned before, the samples in the test set are not labeled, so we can't compute any performance metrics ourselves. Instead, we'll create a .csv file containing the predictions for each sample, and submit it to Kaggle for evaluation."
   ]
  },
  {
   "cell_type": "markdown",
   "metadata": {
    "deletable": false,
    "editable": false,
    "nbgrader": {
     "checksum": "891007ea6b998a0bfd810187d1e87208",
     "grade": false,
     "grade_id": "cell-96a8fded54ed7011",
     "locked": true,
     "schema_version": 1,
     "solution": false
    }
   },
   "source": [
    "Compute the predictions for all samples in the test set according to your best model, and save it in a .csv file with the format expected by the competition.\n",
    "\n",
    "Tip:\n",
    "- There is a sample_submission file available for download in the same place where you downloaded the data from. Take a look at it to better understand what is the expected format here.\n",
    "\n",
    "Hints:\n",
    "- The Python module `os` has a `listdir` function, which returns the filenames of all files in a given path.\n",
    "- If you don't know how to create and write to files with Python, Google can help.\n",
    "- Keras has a submodule called `preprocessing.image`, with some handy functions (for instance `load_img` and `img_to_array`)"
   ]
  },
  {
   "cell_type": "code",
   "execution_count": 59,
   "metadata": {
    "deletable": false,
    "nbgrader": {
     "checksum": "e235a9ab5690a066143575414247f751",
     "grade": true,
     "grade_id": "cell-cc77ac7849f856e1",
     "locked": false,
     "points": 0,
     "schema_version": 1,
     "solution": true
    }
   },
   "outputs": [],
   "source": [
    "# YOUR CODE HERE\n",
    "\n",
    "os.chdir(home_path)\n",
    "model = load_model('large_dataset.h5')\n",
    "\n",
    "def sort(l): \n",
    "    # Sort list numerically\n",
    "    convert = lambda text: int(text) if text.isdigit() else text \n",
    "    alphanum_key = lambda key: [ convert(c) for c in re.split('([0-9]+)', key) ] \n",
    "    return sorted(l, key = alphanum_key)\n",
    "\n",
    "new_test_path = test_path + '/test'\n",
    "os.chdir(new_test_path)\n",
    "l = os.listdir()\n",
    "\n",
    "l = sort(l)\n",
    "steps = 12500\n",
    "\n",
    "# Write predictions to file\n",
    "file = open('submission.csv',\"w\")\n",
    "file.write('id,label\\n') # header row\n",
    "index =  []\n",
    "rows = [' ']*steps\n",
    "\n",
    "for i in range(steps):\n",
    "    img_path = l[i]\n",
    "    img = image.load_img(img_path, target_size=(128, 128))\n",
    "    x = image.img_to_array(img)\n",
    "    x = np.expand_dims(x, axis=0)\n",
    "    x = preprocess_input(x)\n",
    "    prob = model.predict(x) # probabilities for dog and cat\n",
    "    rows[i] = '%d, %f\\n' % (i+1,prob[0,0]) # prob[0,0] is the probability for dog\n",
    "\n",
    "file.writelines(rows)\n",
    "file.close()"
   ]
  },
  {
   "cell_type": "markdown",
   "metadata": {
    "deletable": false,
    "editable": false,
    "nbgrader": {
     "checksum": "1e57b252395ed2657e8f39a69dbf4248",
     "grade": false,
     "grade_id": "cell-faf8664f26ff7f4e",
     "locked": true,
     "schema_version": 1,
     "solution": false
    }
   },
   "source": [
    "Now that you created your submission file, submit it to Kaggle for evaluation. The [old competition](https://www.kaggle.com/c/dogs-vs-cats) does not allow submissions any more, so submit your file to the [new one](https://www.kaggle.com/c/dogs-vs-cats-redux-kernels-edition). Kaggle evaluates your submission according to your log-loss score. Which score did you obtain?"
   ]
  },
  {
   "cell_type": "markdown",
   "metadata": {
    "deletable": false,
    "nbgrader": {
     "checksum": "e4a90a8a13658eeb9af3ad05c63220de",
     "grade": true,
     "grade_id": "cell-e951dcec64dec85d",
     "locked": false,
     "points": 2,
     "schema_version": 1,
     "solution": true
    }
   },
   "source": [
    "**Your answer:** 0.20733"
   ]
  },
  {
   "cell_type": "markdown",
   "metadata": {
    "deletable": false,
    "editable": false,
    "nbgrader": {
     "checksum": "e8a7f3a8236f43994efe29067d7237c2",
     "grade": false,
     "grade_id": "cell-dc362abcfef32eae",
     "locked": true,
     "schema_version": 1,
     "solution": false
    }
   },
   "source": [
    "What was the username you used for this submission?"
   ]
  },
  {
   "cell_type": "markdown",
   "metadata": {
    "deletable": false,
    "nbgrader": {
     "checksum": "8cc61665c676edcd9192df3c15714aa3",
     "grade": true,
     "grade_id": "cell-d519532bb1f957c3",
     "locked": false,
     "points": 0,
     "schema_version": 1,
     "solution": true
    }
   },
   "source": [
    "**Your answer:** timhell"
   ]
  }
 ],
 "metadata": {
  "kernelspec": {
   "display_name": "Python 3",
   "language": "python",
   "name": "python3"
  },
  "language_info": {
   "codemirror_mode": {
    "name": "ipython",
    "version": 3
   },
   "file_extension": ".py",
   "mimetype": "text/x-python",
   "name": "python",
   "nbconvert_exporter": "python",
   "pygments_lexer": "ipython3",
   "version": "3.6.6"
  }
 },
 "nbformat": 4,
 "nbformat_minor": 2
}
